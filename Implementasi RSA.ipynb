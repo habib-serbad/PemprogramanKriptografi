{
 "cells": [
  {
   "cell_type": "code",
   "execution_count": 16,
   "metadata": {},
   "outputs": [],
   "source": [
    "import random\n",
    "import sys\n",
    "\n",
    "#fungsi ini untuk mengecek apakah bilangan prima, \n",
    "#jika benar akan mengemballikan nilai benar (True)\n",
    "\n",
    "def is_prime(num):\n",
    "    if num < 2:\n",
    "        return False\n",
    "    for prime in range(2, num):\n",
    "        if num % prime == 0:\n",
    "            return False\n",
    "    return True\n",
    "\n",
    "\n",
    "#fungsi ini untuk mmencari bilangan prima dari yang terkecil \n",
    "#dari kecil ke terbesar (maks)\n",
    "\n",
    "def find_prime(min, max):\n",
    "    while 1:\n",
    "        value = random.randrange(min,max)\n",
    "        prime = is_prime(value)\n",
    "        if prime:\n",
    "            return value\n",
    "        \n",
    "        \n",
    "#Algoritma Euclid untuk pembagi umum  terbesar\n",
    "#Gunakan iterasi untuk membuatnya lebih cepat untuk bilangan bulat\n",
    "#yang lebih terbesar\n",
    "\n",
    "def gcd(a,b):\n",
    "    while b !=0:\n",
    "        a,b = b, a %b\n",
    "    return a\n",
    "\n",
    "\n",
    "#fungsi ini mencari nilai e (kunci publik)\n",
    "#1. pilih e antara 1 dan phi (pilih e, sehingga e tidak bisa membagi\n",
    "#rata phi).  membagi rata disini adalah phi di mod e \n",
    "#dan hasilnya berupa 0. \n",
    "\n",
    "#contoh : pji phi %3 = 0\n",
    "\n",
    "#2. menentukan nilai e dengan syarat GCD(e,phi) = 1\n",
    "#pastikan hasil dari GCD(e,phi) = 1. kembalikan nilai ke e\n",
    "\n",
    "\n",
    "#dinama e nilangan prima, dan 1<e<e<phi\n",
    "def find_e(phi):\n",
    "    while True:\n",
    "        e=random.randrange(2, phi)\n",
    "        if gcd(e, phi) == 1:\n",
    "            break\n",
    "    return e\n",
    "\n",
    "#fungsi ini mencari nilai d (kunci privasi)\n",
    "#mencari nilai d= (d*e) mod phi = 1\n",
    "#hasilnya harus 1. baru dikembalikan ke nilai d\n",
    "\n",
    "def find_d(e, phi):\n",
    "    d = 2\n",
    "    while 1:\n",
    "        if ((d*e) % phi) == 1:\n",
    "            break\n",
    "        d += 1\n",
    "    return d\n",
    "\n",
    "#generate keypair\n",
    "def gen_key():\n",
    "    p = find_prime(128,256)\n",
    "    q = find_prime(128,256)\n",
    "    #nilai p dan q tidak boleh sama, p != q\n",
    "    if p != q:\n",
    "        n = p * q\n",
    "        phi = (p-1) * (q-1)\n",
    "        e = find_e(phi)\n",
    "        d = find_d(e, phi)\n",
    "        return ((e, n), (d, n))\n",
    "    \n",
    "#fungsi ini menenkripsikan \n",
    "#dengan rumus c=(m^e) mod n\n",
    "#c=ciphertext\n",
    "#m=plaintext\n",
    "#e=kunci publik\n",
    "\n",
    "def encrypt(e,n, plaintext):\n",
    "    ciphertext = [(ord(m)**e) % n for m in plaintext]\n",
    "    return ciphertext\n",
    "\n",
    "def decrypt(d, n, ciphertext):\n",
    "    plaintext = [chr((c**d) % n) for c in ciphertext]\n",
    "    return plaintext\n"
   ]
  },
  {
   "cell_type": "code",
   "execution_count": 17,
   "metadata": {},
   "outputs": [
    {
     "name": "stdout",
     "output_type": "stream",
     "text": [
      "[97, 115, 88, 115]\n"
     ]
    }
   ],
   "source": [
    "ciphertext = encrypt(59,143,'saya')\n",
    "print(ciphertext)"
   ]
  },
  {
   "cell_type": "code",
   "execution_count": 18,
   "metadata": {},
   "outputs": [
    {
     "name": "stdout",
     "output_type": "stream",
     "text": [
      "saya\n"
     ]
    }
   ],
   "source": [
    "plaintext = decrypt(59,143,[97, 115, 88, 115])\n",
    "decrypted = ''.join(plaintext)\n",
    "print(decrypted)"
   ]
  },
  {
   "cell_type": "code",
   "execution_count": 19,
   "metadata": {},
   "outputs": [
    {
     "data": {
      "text/plain": [
       "((23447, 24287), (4487, 24287))"
      ]
     },
     "execution_count": 19,
     "metadata": {},
     "output_type": "execute_result"
    }
   ],
   "source": [
    "gen_key()"
   ]
  },
  {
   "cell_type": "code",
   "execution_count": null,
   "metadata": {},
   "outputs": [],
   "source": []
  }
 ],
 "metadata": {
  "kernelspec": {
   "display_name": "Python 3",
   "language": "python",
   "name": "python3"
  },
  "language_info": {
   "codemirror_mode": {
    "name": "ipython",
    "version": 3
   },
   "file_extension": ".py",
   "mimetype": "text/x-python",
   "name": "python",
   "nbconvert_exporter": "python",
   "pygments_lexer": "ipython3",
   "version": "3.7.6"
  }
 },
 "nbformat": 4,
 "nbformat_minor": 4
}
