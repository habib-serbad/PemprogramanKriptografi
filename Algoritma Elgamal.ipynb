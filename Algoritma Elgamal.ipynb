{
 "cells": [
  {
   "cell_type": "markdown",
   "metadata": {},
   "source": [
    "# ALGORITMA ELGAMAL"
   ]
  },
  {
   "cell_type": "code",
   "execution_count": 1,
   "metadata": {},
   "outputs": [],
   "source": [
    "# # ALGORITMA ELGAMAL\n",
    "\n",
    "#     Keamanan algoritma ini terletak pada sulitnya menghitung logaritma diskrit. Masalah logaritma diskrit : \n",
    "#     Jika p adalah bilangan prima\n",
    "#     g dan y adalah sembarang bilangan bulat\n",
    "#     carilah x sedemikian sehingga g^x = y (mod p)\n",
    "\n",
    "#        Properti Algoritma ElGamal :\n",
    "#             1. bilangan prima, p             (tidak rahasia)\n",
    "#             2. bilangan acak, g (g < p)   (tidak rahasia)\n",
    "#             3. bilangan acak, x (x < p)    (rahasia, kunci privat)\n",
    "#             4. y = g^x mod p                    (tidak rahasia, kunci publik)\n",
    "#             5. m (plain text)                     (rahasia)\n",
    "#             6. a dan b (cipher text)          (tidak rahasia)\n",
    "\n",
    "#     PROSEDUR PEMBANGKITAN KUNCI\n",
    "# \n",
    "#     1. Pilih sembarang bilangan prima p (p dapat di share di antara anggota kelompok)\n",
    "#     \n",
    "#     2. Pilih dua bilangan acak, g dan x, dengan syarat g < p dan 1 =< x =< p -2 \n",
    "#     3. Hitung y = g^x mod p \n",
    "#     \n",
    "#     Hasil dari algoritma ini :\n",
    "#     - Kunci publik : triple (y, g, p)\n",
    "#     - Kunci privat : pasangan (x, p)\n",
    "#     \n",
    "\n",
    "#     Prosedur Enkripsi\n",
    "#     1. Susun plain text menjadi blok-blok m1, m2, ... , (nilai setiap blok di dalam selang [0, p - 1] \n",
    "#     2. pilih bilangan acak k, yang dalam hal ini 1 =< k =< p - 2\n",
    "#     3. setiap blok m dienkripsi dengan rumus\n",
    "#         a = g^k mod p\n",
    "#         b = y^k m mod p \n",
    "#         pasangan a dan b adalah cipherteks untuk blok pesan m. Jadi, ukuran ciphertext dua kali ukuran plain text\n"
   ]
  },
  {
   "cell_type": "code",
   "execution_count": 16,
   "metadata": {},
   "outputs": [
    {
     "name": "stdout",
     "output_type": "stream",
     "text": [
      "1439 74\n"
     ]
    }
   ],
   "source": [
    "p = 2273\n",
    "g = 3\n",
    "x = 243\n",
    "\n",
    "m = 700\n",
    "k = 1463\n",
    "\n",
    "\n",
    "y = g ** x % p\n",
    "\n",
    "def enkripsi(m, k, g, p, y):\n",
    "    a = g ** k % p\n",
    "    b = (y ** k * m) % p\n",
    "    return (a,b)\n",
    "\n",
    "\n",
    "(a,b) = enkripsi(m, k, g, p, y)\n",
    "\n",
    "print(a, b)"
   ]
  },
  {
   "cell_type": "code",
   "execution_count": 9,
   "metadata": {},
   "outputs": [
    {
     "name": "stdout",
     "output_type": "stream",
     "text": [
      "1220 1682\n"
     ]
    }
   ],
   "source": [
    "p = 2273\n",
    "g = 3\n",
    "x = 243\n",
    "\n",
    "#ubah nilai m dan k nya\n",
    "\n",
    "m = 1114\n",
    "k = 2001\n",
    "\n",
    "\n",
    "y = g ** x % p\n",
    "\n",
    "def enkripsi(m, k, g, p, y):\n",
    "    a = g ** k % p\n",
    "    b = (y ** k * m) % p\n",
    "    return (a,b)\n",
    "\n",
    "\n",
    "(a,b) = enkripsi(m, k, g, p, y)\n",
    "\n",
    "print(a, b)"
   ]
  }
 ],
 "metadata": {
  "kernelspec": {
   "display_name": "Python 3",
   "language": "python",
   "name": "python3"
  },
  "language_info": {
   "codemirror_mode": {
    "name": "ipython",
    "version": 3
   },
   "file_extension": ".py",
   "mimetype": "text/x-python",
   "name": "python",
   "nbconvert_exporter": "python",
   "pygments_lexer": "ipython3",
   "version": "3.7.6"
  }
 },
 "nbformat": 4,
 "nbformat_minor": 5
}
