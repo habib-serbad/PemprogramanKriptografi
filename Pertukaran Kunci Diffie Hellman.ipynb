{
 "cells": [
  {
   "cell_type": "markdown",
   "metadata": {},
   "source": [
    "# Pertukaran Kunci Deiffie Hellman"
   ]
  },
  {
   "cell_type": "markdown",
   "metadata": {},
   "source": [
    "LATAR BELAKANG\n",
    "        \n",
    "        * Kegunaan : untuk berbagai kunci rahasia yang sama antara dua entitas yang berkomunikasi. \n",
    "          Kunci rahasia digunakan untuk mengenkripsi pesan dengan algoritma kriptografi kunci-simetri (DES, AES, dll)\n",
    "        * Keamanan Algoritmanya didasarkan pada sulitnya menghitung logaritma diskrit. "
   ]
  },
  {
   "cell_type": "code",
   "execution_count": 8,
   "metadata": {},
   "outputs": [],
   "source": [
    "from PIL import Image\n",
    "dauntless = Image.open(\"Screenshot(1158).png\");\n",
    "dauntless.show();"
   ]
  },
  {
   "cell_type": "code",
   "execution_count": 14,
   "metadata": {},
   "outputs": [
    {
     "name": "stdout",
     "output_type": "stream",
     "text": [
      "Masukkan nilai P : 23\n",
      "Masukkan nilai G : 9\n",
      "The Value of P is :23\n",
      "The Value of G is :9\n",
      "Masukkan nilai a : 4\n",
      "The Private Key a for Alice is :4\n",
      "Masukkan nilai b : 3\n",
      "The Private Key b for Bob is :3\n",
      "Secret key for the Alice is : 9\n",
      "Secret Key for the Bob is : 9\n"
     ]
    }
   ],
   "source": [
    "from random import randint\n",
    "if __name__ == '__main__':\n",
    " \n",
    "    # Both the persons will be agreed upon the\n",
    "    # public keys G and P\n",
    "    # A prime number P is taken\n",
    "    P = int(input(\"Masukkan nilai P : \"))\n",
    "    # A primitive root for P, G is taken\n",
    "    G = int(input(\"Masukkan nilai G : \"))  \n",
    "    print('The Value of P is :%d'%(P))\n",
    "    print('The Value of G is :%d'%(G))\n",
    "     \n",
    "    # Alice will choose the private key a\n",
    "    a = int(input(\"Masukkan nilai a : \"))\n",
    "    print('The Private Key a for Alice is :%d'%(a))\n",
    "    # gets the generated key\n",
    "    x = int(pow(G,a,P)) \n",
    "     \n",
    "    # Bob will choose the private key b\n",
    "    b = int(input(\"Masukkan nilai b : \"))\n",
    "    print('The Private Key b for Bob is :%d'%(b))\n",
    "    \n",
    "    # gets the generated key\n",
    "    y = int(pow(G,b,P)) \n",
    "    \n",
    "    # Secret key for Alice\n",
    "    ka = int(pow(y,a,P))\n",
    "    # Secret key for Bob\n",
    "    kb = int(pow(x,b,P))\n",
    "     \n",
    "    print('Secret key for the Alice is : %d'%(ka))\n",
    "    print('Secret Key for the Bob is : %d'%(kb))"
   ]
  },
  {
   "cell_type": "code",
   "execution_count": 1,
   "metadata": {},
   "outputs": [
    {
     "name": "stdout",
     "output_type": "stream",
     "text": [
      "the public key of Alice is=  7436\n",
      "the public key of Bob is=  65365\n",
      "the superkey is =  86327\n",
      "encrypted=  86363\n",
      "decrypted=  36\n"
     ]
    }
   ],
   "source": [
    "#  Diffie-Hellman asymmetric key exchange\n",
    "# \n",
    "\n",
    "# define a few functions\n",
    "\n",
    "def publickey(g,a,p):  \n",
    "\tastar=pow(g,a,p)  # pow(base,exp,m) is equivalent to base**exp mod m\n",
    "\treturn astar\n",
    "\n",
    "# compute super key x given bstar (Bob's public key), a (Alice's private key)\n",
    "# and the parameter p\n",
    "def superkey(bstar,a,p): \n",
    "\tx=pow(bstar,a,p)\n",
    "\treturn x\n",
    "\n",
    "# set the global parameters known to everybody\n",
    "p=103079\n",
    "g=7\n",
    "\n",
    "# here is the private key of Alice -- has to be < p\n",
    "a=13  \n",
    "# compute Alice's public key given the global parameters and her private key a\n",
    "astar=publickey(g,a,p)  \n",
    "print(\"the public key of Alice is= \", astar)\n",
    "\n",
    "# private and public keys for Bob \n",
    "b=11     # it is smaller than p\n",
    "bstar=publickey(g,b,p)\n",
    "print(\"the public key of Bob is= \", bstar)\n",
    "\n",
    "# compute super key x given bstar (Bob's public key), a (Alice's private key)\n",
    "x= superkey(bstar,a,p)  \n",
    "print(\"the superkey is = \", x)\n",
    "\n",
    "# use the super key to encrypt a number (simple solution)\n",
    "t=36\n",
    "encrypted=(t+x) % p\n",
    "print('encrypted= ', encrypted)\n",
    "\n",
    "# and to decrypt it\n",
    "decrypted=(encrypted-x)%p\n",
    "print('decrypted= ', decrypted)\n",
    "\n",
    "#try other numbers"
   ]
  },
  {
   "cell_type": "code",
   "execution_count": null,
   "metadata": {},
   "outputs": [],
   "source": []
  }
 ],
 "metadata": {
  "kernelspec": {
   "display_name": "Python 3",
   "language": "python",
   "name": "python3"
  },
  "language_info": {
   "codemirror_mode": {
    "name": "ipython",
    "version": 3
   },
   "file_extension": ".py",
   "mimetype": "text/x-python",
   "name": "python",
   "nbconvert_exporter": "python",
   "pygments_lexer": "ipython3",
   "version": "3.7.6"
  }
 },
 "nbformat": 4,
 "nbformat_minor": 4
}
