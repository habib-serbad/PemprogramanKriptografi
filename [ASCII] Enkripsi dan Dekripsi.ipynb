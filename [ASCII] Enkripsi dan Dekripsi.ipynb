{
 "cells": [
  {
   "cell_type": "code",
   "execution_count": 22,
   "metadata": {},
   "outputs": [],
   "source": [
    "def encrypt(p,k):\n",
    "    c=''\n",
    "    b=len(p)\n",
    "    for i in range(0,b):\n",
    "        if p[i]==' ':\n",
    "            ct=' '\n",
    "        else :\n",
    "            ca=(ord(p[i]) - 97 + k) %26 #\n",
    "            y=ca+97\n",
    "            ct=chr(y)\n",
    "        c=c+ct\n",
    "    return c\n",
    "\n",
    "def decrypt(c,k):\n",
    "    p=''\n",
    "    b=len(c)\n",
    "    for i in range(0,b):\n",
    "        if c[i]==' ':\n",
    "            pt=' '\n",
    "        else :\n",
    "            pa=(ord(c[i]) - 97 - k) %26\n",
    "            y=pa+97\n",
    "            pt=chr(y)\n",
    "        p=p+pt\n",
    "    return p"
   ]
  },
  {
   "cell_type": "code",
   "execution_count": 15,
   "metadata": {},
   "outputs": [
    {
     "data": {
      "text/plain": [
       "'dnx ndx nxd'"
      ]
     },
     "execution_count": 15,
     "metadata": {},
     "output_type": "execute_result"
    }
   ],
   "source": [
    "encrypt('aku kau kua',3)"
   ]
  },
  {
   "cell_type": "code",
   "execution_count": 21,
   "metadata": {},
   "outputs": [
    {
     "data": {
      "text/plain": [
       "'indonesia juga mempunyai lembaga pendidikan tinggi khusus di bidang kriptografi yang  bernama sekolah tinggi sandi negara di kawasan ciseeng kabupaten bogor yang didirikan untuk memenuhi sdm dalam bidang persandian'"
      ]
     },
     "execution_count": 21,
     "metadata": {},
     "output_type": "execute_result"
    }
   ],
   "source": [
    "decrypt('afvgfwkas bmys ewehmfqsa dwetsys hwfvavacsf lafyya czmkmk va tavsfy cjahlgyjsxa qsfy  twjfses kwcgdsz lafyya ksfva fwysjs va csosksf uakwwfy cstmhslwf tgygj qsfy vavajacsf mflmc ewewfmza kve vsdse tavsfy hwjksfvasf',18)"
   ]
  },
  {
   "cell_type": "code",
   "execution_count": 17,
   "metadata": {},
   "outputs": [
    {
     "data": {
      "text/plain": [
       "'pjsfuf inf xzpf xfrf dfsl qfnsx'"
      ]
     },
     "execution_count": 17,
     "metadata": {},
     "output_type": "execute_result"
    }
   ],
   "source": [
    "encrypt('kenapa dia suka sama yang lain?',5)"
   ]
  },
  {
   "cell_type": "code",
   "execution_count": 23,
   "metadata": {},
   "outputs": [
    {
     "name": "stdout",
     "output_type": "stream",
     "text": [
      "1\n",
      "tfnphb tfhfsb ejqfsufnvlbo bbnjjo\n",
      "2\n",
      "ugoqic ugigtc fkrgtvgowmcp ccokkp\n",
      "3\n",
      "vhprjd vhjhud glshuwhpxndq ddpllq\n",
      "4\n",
      "wiqske wikive hmtivxiqyoer eeqmmr\n",
      "5\n",
      "xjrtlf xjljwf inujwyjrzpfs ffrnns\n",
      "6\n",
      "yksumg ykmkxg jovkxzksaqgt ggsoot\n",
      "7\n",
      "zltvnh zlnlyh kpwlyaltbrhu hhtppu\n",
      "8\n",
      "amuwoi amomzi lqxmzbmucsiv iiuqqv\n",
      "9\n",
      "bnvxpj bnpnaj mrynacnvdtjw jjvrrw\n",
      "10\n",
      "cowyqk coqobk nszobdoweukx kkwssx\n",
      "11\n",
      "dpxzrl dprpcl otapcepxfvly llxtty\n",
      "12\n",
      "eqyasm eqsqdm pubqdfqygwmz mmyuuz\n",
      "13\n",
      "frzbtn frtren qvcregrzhxna nnzvva\n",
      "14\n",
      "gsacuo gsusfo rwdsfhsaiyob ooawwb\n",
      "15\n",
      "htbdvp htvtgp sxetgitbjzpc ppbxxc\n",
      "16\n",
      "iucewq iuwuhq tyfuhjuckaqd qqcyyd\n",
      "17\n",
      "jvdfxr jvxvir uzgvikvdlbre rrdzze\n",
      "18\n",
      "kwegys kwywjs vahwjlwemcsf sseaaf\n",
      "19\n",
      "lxfhzt lxzxkt wbixkmxfndtg ttfbbg\n",
      "20\n",
      "mygiau myaylu xcjylnygoeuh uugcch\n",
      "21\n",
      "nzhjbv nzbzmv ydkzmozhpfvi vvhddi\n",
      "22\n",
      "oaikcw oacanw zelanpaiqgwj wwieej\n",
      "23\n",
      "pbjldx pbdbox afmboqbjrhxk xxjffk\n",
      "24\n",
      "qckmey qcecpy bgncprcksiyl yykggl\n",
      "25\n",
      "rdlnfz rdfdqz chodqsdltjzm zzlhhm\n"
     ]
    }
   ],
   "source": [
    "for i in range(1,26):\n",
    "    print(i)\n",
    "    print(encrypt('semoga segera dipertemukan aamiin',i))"
   ]
  },
  {
   "cell_type": "code",
   "execution_count": null,
   "metadata": {},
   "outputs": [],
   "source": []
  }
 ],
 "metadata": {
  "kernelspec": {
   "display_name": "Python 3",
   "language": "python",
   "name": "python3"
  },
  "language_info": {
   "codemirror_mode": {
    "name": "ipython",
    "version": 3
   },
   "file_extension": ".py",
   "mimetype": "text/x-python",
   "name": "python",
   "nbconvert_exporter": "python",
   "pygments_lexer": "ipython3",
   "version": "3.7.6"
  }
 },
 "nbformat": 4,
 "nbformat_minor": 4
}
