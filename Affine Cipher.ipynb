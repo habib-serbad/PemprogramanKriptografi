{
 "cells": [
  {
   "cell_type": "markdown",
   "metadata": {},
   "source": [
    "Affine Cipher (13 Oktober 2021)"
   ]
  },
  {
   "cell_type": "code",
   "execution_count": 1,
   "metadata": {},
   "outputs": [],
   "source": [
    "#perluasan dari caesar cipher\n",
    "#enkripsi : C = mP + b (mod n)\n",
    "#dekripsi: P = m^-1 (C - b)(mod n)\n",
    "#kunci : m dan b\n",
    "\n",
    "#keterangan: \n",
    "#1. n adalah ukuran alpabet\n",
    "#2. m bil.bulat yang relatif prima dengan n\n",
    "#3. b adalah jumlah pergeseran\n",
    "#4. Caessar cipher adalah khusus dari affine cipher dengan m=1\n",
    "#5. m^-1 adalah inversi m(mod n), yaitu m.m^-1 ekuivalensi 1 (mod n)\n",
    "\n",
    "#program kurang lengkap dan harus dimoodifikasi (sudah diketahui m & n)\n",
    "#bagaimana cara mencari m^-1\n",
    "#fuctionnya ditambah modulo\n"
   ]
  },
  {
   "cell_type": "code",
   "execution_count": 5,
   "metadata": {},
   "outputs": [],
   "source": [
    "def encrypt(a,x,k):  #a adalah kunci plaintext, k adalah kunci pergeseran\n",
    "    c = ' '         #dibikin kosong dulu\n",
    "    t = len(x)\n",
    "    for i in range(0,t):\n",
    "        if x[i]==' ':        #kalo spaasi\n",
    "            ct=' '           #hasilnya spasi\n",
    "        else :\n",
    "            p=ord(x[i])\n",
    "            y=((a*(p-97))+k)%26 #menggunakan 97 supaya memudahkan ketika modulo,menggunakan modulo 26, karna dimulai dari 0\n",
    "            ct=chr(y+97)        #ditambahkan 97 supaya balik lagi\n",
    "        c=c+ct\n",
    "    return c\n",
    "\n",
    "def decrypt(ain,x,k):\n",
    "    p=''\n",
    "    t=len(x)\n",
    "    for i in range(0,t):\n",
    "        if x[i]==' ':\n",
    "            pt=' '\n",
    "        else : \n",
    "            c=ord(x[i])\n",
    "            y=(ain*(c-k-97))%26  #a invers dikali ciphertext - kunci - 97, biar jadi 0 si a itu tadi\n",
    "            pt=chr(y+97)         #dikembalikan lagi dengan menambah 97\n",
    "        p=p+pt\n",
    "    return p\n",
    "\n",
    "\n",
    "#perlu menambahkan invers modulo"
   ]
  },
  {
   "cell_type": "code",
   "execution_count": 6,
   "metadata": {},
   "outputs": [
    {
     "data": {
      "text/plain": [
       "' czolne'"
      ]
     },
     "execution_count": 6,
     "metadata": {},
     "output_type": "execute_result"
    }
   ],
   "source": [
    "encrypt(7,'kripto',10)      #a=7, text:kripto, kunci:10"
   ]
  },
  {
   "cell_type": "code",
   "execution_count": 7,
   "metadata": {},
   "outputs": [
    {
     "data": {
      "text/plain": [
       "'kripto'"
      ]
     },
     "execution_count": 7,
     "metadata": {},
     "output_type": "execute_result"
    }
   ],
   "source": [
    "decrypt(15,'czolne',10)"
   ]
  },
  {
   "cell_type": "code",
   "execution_count": 15,
   "metadata": {},
   "outputs": [],
   "source": [
    "# Implementation of Affine Cipher in Python\n",
    "\n",
    "# Extended Euclidean Algorithm for finding modular inverse\n",
    "# eg: modinv(7, 26) = 15\n",
    "def egcd(a, b):\n",
    "    x,y, u,v = 0,1, 1,0\n",
    "    while a != 0:\n",
    "        q, r = b//a, b%a\n",
    "        m, n = x-u*q, y-v*q\n",
    "        b,a, x,y, u,v = a,r, u,v, m,n\n",
    "    gcd = b\n",
    "    return gcd, x, y\n",
    "\n",
    "def modinv(a, m):\n",
    "    gcd, x, y = egcd(a, m)\n",
    "    if gcd != 1:\n",
    "        return None # modular inverse does not exist\n",
    "    else:\n",
    "        return x % m\n",
    "\n",
    "\n",
    "# affine cipher encryption function\n",
    "# returns the cipher text\n",
    "def affine_encrypt(text, key):\n",
    "    '''\n",
    "    C = (a*P + b) % 26\n",
    "    '''\n",
    "    return ''.join([ chr((( key[0]*(ord(t) - ord('A')) + key[1] ) % 26)\n",
    "                + ord('A')) for t in text.upper().replace(' ', '') ])\n",
    "\n",
    "\n",
    "# affine cipher decryption function\n",
    "# returns original text\n",
    "def affine_decrypt(cipher, key):\n",
    "    '''\n",
    "    P = (a^-1 * (C - b)) % 26\n",
    "    '''\n",
    "    return ''.join([ chr((( modinv(key[0], 26)*(ord(c) - ord('A') - key[1]))\n",
    "                % 26) + ord('A')) for c in cipher ])\n",
    "\n",
    "\n",
    "# Driver Code to test the above functions\n",
    "def main():\n",
    "    # declaring text and key\n",
    "    text = input('Masukkan Plaintext: ')\n",
    "    key = [int(input('Masukkan Key Pertama: ')) , int(input('Masukkan Key Kedua: ')) ]\n",
    "\n",
    "    # calling encryption function\n",
    "    affine_encrypted_text = affine_encrypt(text, key)\n",
    "\n",
    "    print('Encrypted Text: {}'.format( affine_encrypted_text ))\n",
    "\n",
    "    # calling decryption function\n",
    "    print('Decrypted Text: {}'.format\n",
    "    ( affine_decrypt(affine_encrypted_text, key) ))\n",
    "\n",
    "def encrypt():    \n",
    "    if __name__ == '__main__':\n",
    "        main()\n",
    "        \n",
    "        \n",
    "# This code is contributed by\n",
    "# Bhushan Borole\n"
   ]
  },
  {
   "cell_type": "code",
   "execution_count": 14,
   "metadata": {},
   "outputs": [
    {
     "name": "stdout",
     "output_type": "stream",
     "text": [
      "Masukkan Plaintext: AFFINECIPHER\n",
      "Masukkan Key pertama: 1\n",
      "Masukkan Key pertama: 2\n",
      "Encrypted Text: CHHKPGEKRJGT\n",
      "Decrypted Text: AFFINECIPHER\n"
     ]
    }
   ],
   "source": [
    "encrypt()"
   ]
  },
  {
   "cell_type": "code",
   "execution_count": null,
   "metadata": {},
   "outputs": [],
   "source": []
  }
 ],
 "metadata": {
  "kernelspec": {
   "display_name": "Python 3",
   "language": "python",
   "name": "python3"
  },
  "language_info": {
   "codemirror_mode": {
    "name": "ipython",
    "version": 3
   },
   "file_extension": ".py",
   "mimetype": "text/x-python",
   "name": "python",
   "nbconvert_exporter": "python",
   "pygments_lexer": "ipython3",
   "version": "3.7.6"
  }
 },
 "nbformat": 4,
 "nbformat_minor": 4
}
