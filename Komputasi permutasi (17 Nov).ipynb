{
 "cells": [
  {
   "cell_type": "markdown",
   "metadata": {},
   "source": [
    "# Beberapa script untuk membuat Tabel dan matriks nya"
   ]
  },
  {
   "cell_type": "code",
   "execution_count": 131,
   "metadata": {},
   "outputs": [
    {
     "name": "stdout",
     "output_type": "stream",
     "text": [
      "╒══════════════╤═════════════╤═══════╕\n",
      "│ First Name   │ Last Name   │   Age │\n",
      "╞══════════════╪═════════════╪═══════╡\n",
      "│ John         │ Smith       │    39 │\n",
      "├──────────────┼─────────────┼───────┤\n",
      "│ Mary         │ Jane        │    25 │\n",
      "├──────────────┼─────────────┼───────┤\n",
      "│ Jennifer     │ Doe         │    28 │\n",
      "╘══════════════╧═════════════╧═══════╛\n"
     ]
    }
   ],
   "source": [
    "#contoh buat tabel\n",
    "\n",
    "from tabulate import tabulate\n",
    "\n",
    "table = [['First Name', 'Last Name', 'Age'], ['John', 'Smith', 39], ['Mary', 'Jane', 25], ['Jennifer', 'Doe', 28]]\n",
    "#print(tabulate(table))\n",
    "#print(tabulate(table, headers='firstrow'))\n",
    "#print(tabulate(table, headers='firstrow', tablefmt='grid'))\n",
    "print(tabulate(table, headers='firstrow', tablefmt='fancy_grid'))"
   ]
  },
  {
   "cell_type": "code",
   "execution_count": 132,
   "metadata": {
    "scrolled": true
   },
   "outputs": [
    {
     "name": "stdout",
     "output_type": "stream",
     "text": [
      "First Name    Last Name      Age\n",
      "------------  -----------  -----\n",
      "John          Smith           39\n",
      "Mary          Jane            25\n",
      "Jennifer      Doe             28\n",
      "╒══════════════╤═════════════╤═══════╕\n",
      "│ First Name   │ Last Name   │   Age │\n",
      "╞══════════════╪═════════════╪═══════╡\n",
      "│ John         │ Smith       │    39 │\n",
      "├──────────────┼─────────────┼───────┤\n",
      "│ Mary         │ Jane        │    25 │\n",
      "├──────────────┼─────────────┼───────┤\n",
      "│ Jennifer     │ Doe         │    28 │\n",
      "╘══════════════╧═════════════╧═══════╛\n"
     ]
    }
   ],
   "source": [
    "#contoh buat tabel\n",
    "info = {'First Name': ['John', 'Mary', 'Jennifer'], 'Last Name': ['Smith', 'Jane', 'Doe'], 'Age': [39, 25, 28]}\n",
    "print(tabulate(info, headers='keys'))\n",
    "print(tabulate(info, headers='keys', tablefmt='fancy_grid'))"
   ]
  },
  {
   "cell_type": "code",
   "execution_count": 133,
   "metadata": {},
   "outputs": [],
   "source": [
    "#buat tabel untuk materi kita\n",
    "\n",
    "def table1():\n",
    "    table1 = [['x', 1, 2, 3, 4, 5], ['\\u03C0(x)', 4, 5, 1, 2, 3,]]\n",
    "    print (tabulate(table1, headers='firstrow', tablefmt='fancy_grid'))\n",
    "#print(tabulate(table, headers='firstrow', tablefmt='fancy_grid'))\n",
    "\n",
    "def table2():\n",
    "    table2 = [['x', 1, 2, 3, 4, 5], ['\\u03C0 ^-1 (x)', 3, 4, 5, 1, 2]]\n",
    "    print(tabulate(table2, headers='firstrow', tablefmt='fancy_grid'))"
   ]
  },
  {
   "cell_type": "code",
   "execution_count": 134,
   "metadata": {},
   "outputs": [
    {
     "name": "stdout",
     "output_type": "stream",
     "text": [
      "╒══════╤═════╤═════╤═════╤═════╤═════╕\n",
      "│ x    │   1 │   2 │   3 │   4 │   5 │\n",
      "╞══════╪═════╪═════╪═════╪═════╪═════╡\n",
      "│ π(x) │   4 │   5 │   1 │   2 │   3 │\n",
      "╘══════╧═════╧═════╧═════╧═════╧═════╛\n",
      "╒═══════════╤═════╤═════╤═════╤═════╤═════╕\n",
      "│ x         │   1 │   2 │   3 │   4 │   5 │\n",
      "╞═══════════╪═════╪═════╪═════╪═════╪═════╡\n",
      "│ π ^-1 (x) │   3 │   4 │   5 │   1 │   2 │\n",
      "╘═══════════╧═════╧═════╧═════╧═════╧═════╛\n"
     ]
    }
   ],
   "source": [
    "table1()\n",
    "table2()"
   ]
  },
  {
   "cell_type": "code",
   "execution_count": 137,
   "metadata": {},
   "outputs": [],
   "source": [
    "import numpy as np\n",
    "\n",
    "#Blok 1 \n",
    "\n",
    "K = np.array([[1, 2, 3, 4, 5], [4, 5, 1, 2, 3]])\n",
    "\n",
    "J = np.array([[1, 2, 3, 4, 5],\n",
    "              ['S','A','Y','A','#'],\n",
    "              [4, 5, 1, 2, 3],\n",
    "              ['A', '#', 'S', 'A', 'Y']])\n",
    "def blok1():\n",
    "    print(\"K\", \"=\")\n",
    "    print(K)\n",
    "    print()\n",
    "    print (\"=\")\n",
    "    print()\n",
    "    print(J)\n"
   ]
  },
  {
   "cell_type": "markdown",
   "metadata": {},
   "source": [
    "# Komputasi Permutasi"
   ]
  },
  {
   "cell_type": "markdown",
   "metadata": {},
   "source": [
    "Teknik Transposisi (Permutasi)\n",
    "\n",
    "        Teknik transposisi (permutasi) ini memakai permutasi karakter, dengan memakai teknik ini pesan asli (plaintext) tidak dapat diketahui isinya kecuali seseorang tersebut mempunyai kunci untuk mendekripsi pesan kembali ke bentuk asal. \n",
    "    \n",
    "        Penyandian pesan menggunakan teknik transposisi (permutasi) yaitu dengan cara melakukan permutasi pi(simbol pi) terhadap pesan yang asli, sedangkan untuk mengembalikan pesan ke bentuk asal dilakukan permutasi pi^-1 pada teks sandi (invers pada pi). \n",
    "    \n",
    "1. Proses penyandian menggunakan teknik Transposisi (permutasi)\n",
    "\n",
    "        Langkah pertama dari proses penyandian menggunakan teknik tarnsposisi (permutasi) yaitu dengan membagi teks asli menjadi blok-blok yang memuat beberapa karakter. Kunci yang digunakan pada teks ini adalah bentuk permutasi-n, yang dapat menjadikan pesan asli tidak dapat diketahui kecuali oleh seseorang yang mempunyai kunci untuk mendekripsi chpertext ke bentuk asal. "
   ]
  },
  {
   "cell_type": "markdown",
   "metadata": {},
   "source": [
    "2. Proses dekripsi menggunakan teknik transposisi (permutasi)\n",
    "\n",
    "        Proses dekripsi pada teknik transposisi ini pada dasarnya sama saja dengan proses enkripsinya, namun pada proses dekripsi penerima pesan terlebih dahulu menginverskan kunci yang telah disepakati sebelumnya. \n",
    "        \n",
    "        Berikut ini contoh proses penyandian menggunakan teknik permutasi."
   ]
  },
  {
   "cell_type": "markdown",
   "metadata": {},
   "source": [
    "        Terdapat kunci untuk melakukan permutasi :"
   ]
  },
  {
   "cell_type": "code",
   "execution_count": 138,
   "metadata": {
    "scrolled": true
   },
   "outputs": [
    {
     "name": "stdout",
     "output_type": "stream",
     "text": [
      "╒══════╤═════╤═════╤═════╤═════╤═════╕\n",
      "│ x    │   1 │   2 │   3 │   4 │   5 │\n",
      "╞══════╪═════╪═════╪═════╪═════╪═════╡\n",
      "│ π(x) │   4 │   5 │   1 │   2 │   3 │\n",
      "╘══════╧═════╧═════╧═════╧═════╧═════╛\n"
     ]
    }
   ],
   "source": [
    "table1()"
   ]
  },
  {
   "cell_type": "markdown",
   "metadata": {},
   "source": [
    "        Penjelasan:\n",
    "        x itu plaintext nya, pi(x) adalah dekripsinya\n",
    "        dia melakukan pemetaan dari x ke pi(x)\n",
    "        dilakukan pengacakan dari pesan karakter ke 1,2,3,4,5 menjadi 4 dulu terus 5, terus selanjutnya\n",
    "        \n",
    "        dan juga terdapat kunci invers permutasi :"
   ]
  },
  {
   "cell_type": "code",
   "execution_count": 139,
   "metadata": {},
   "outputs": [
    {
     "name": "stdout",
     "output_type": "stream",
     "text": [
      "╒═══════════╤═════╤═════╤═════╤═════╤═════╕\n",
      "│ x         │   1 │   2 │   3 │   4 │   5 │\n",
      "╞═══════════╪═════╪═════╪═════╪═════╪═════╡\n",
      "│ π ^-1 (x) │   3 │   4 │   5 │   1 │   2 │\n",
      "╘═══════════╧═════╧═════╧═════╧═════╧═════╛\n"
     ]
    }
   ],
   "source": [
    "table2()"
   ]
  },
  {
   "cell_type": "markdown",
   "metadata": {},
   "source": [
    "        Misalkan dilakukan permutasi atau enkripsi terhadap teks dibawah ini : \n",
    "        \" SAYA SEDANG MENCOBA ENKRIPSI \"\n",
    "        \n",
    "        Selanjutnya membagi teks tersebut menjadi lima blok dengan ketentuan apabila terdapat kekurangan pada blok dapat ditambahkan dengan karakter seperti %, sedangkan untuk spasi dapat diganti dengam karakter seperti #.\n",
    "        \n",
    "        SAYA#  SEDAN  G#MEN  COBA#   ENKRI   PSI%%\n",
    "        \n",
    "        Setelah itu setiap blok diubah menjadi seperti dibawah ini dengan menggunakan  kunci pertama yang telah ditentukan. \n",
    "        "
   ]
  },
  {
   "cell_type": "code",
   "execution_count": 140,
   "metadata": {},
   "outputs": [
    {
     "name": "stdout",
     "output_type": "stream",
     "text": [
      "K =\n",
      "[[1 2 3 4 5]\n",
      " [4 5 1 2 3]]\n",
      "\n",
      "=\n",
      "\n",
      "[['1' '2' '3' '4' '5']\n",
      " ['S' 'A' 'Y' 'A' '#']\n",
      " ['4' '5' '1' '2' '3']\n",
      " ['A' '#' 'S' 'A' 'Y']]\n"
     ]
    }
   ],
   "source": [
    "blok1()\n",
    "# Blok 1: K = ..... = ....."
   ]
  },
  {
   "cell_type": "markdown",
   "metadata": {},
   "source": [
    "        Sehingga diperoleh chipertext yaitu :\n",
    "        \" A#SAYANSEDENG#MA#COBRIENK%%PSI \"\n",
    "        \n",
    "        Sedangkan untuk proses dekripsi ciphertext dilakukan dengan cara yang sama seperti proses enkripsi namun dengan menggunakan kunci invers atau kedua yang telah ditentukan sebelumnya. \n",
    "        \n",
    "        K = (1 2 3 4 5 \n",
    "             4 5 1 2 3)\n",
    "             \n",
    "        K^-1 = (4 5 1 2 3 \n",
    "                1 2 3 4 5)\n",
    "        K^-1 = (1 2 3 4 5\n",
    "                3 4 5 1 2)\n",
    "                \n",
    "        Blok 1: K^-1 = (1 2 3 4 5   = (1 2 3 4 5 \n",
    "                        3 4 5 1 2 )    A # S A Y\n",
    "                                       3 4 5 1 2\n",
    "                                       S A Y A #)\n",
    "        Sehingga diperoleh \" SAYA#SEDANG#MENCOBA#ENKRIPSI%% \"\n",
    "        \n",
    "        Silahkan dicoba dengan kunci yang lain (membuat kunci sendiri) dan mencoba mengenkripsikan pesan. "
   ]
  },
  {
   "cell_type": "markdown",
   "metadata": {},
   "source": [
    "# SCRIPT PROGRAM"
   ]
  },
  {
   "cell_type": "code",
   "execution_count": 175,
   "metadata": {},
   "outputs": [],
   "source": [
    "#ENKRIPSI PERMUTASI\n",
    "#ini sesuai dengan cara yang ada di video. \n",
    "#Plainteks langsung dimasukkan ketika ingin enkripsi, pada variabel enpermutasi \n",
    "\n",
    "def enpermutasi(p):\n",
    "    c=\"\"\n",
    "    while len(p)%5!=0:\n",
    "        p = p + '%'\n",
    "    for i in range(len(p)//5):\n",
    "        c=c+p[3+(5*i)]    #ini bisa dirapikan mungkin dengan for\n",
    "        c=c+p[4+(5*i)]    #atau dengan yang lainnnya\n",
    "        c=c+p[0+(5*i)]\n",
    "        c=c+p[1+(5*i)]\n",
    "        c=c+p[2+(5*i)]\n",
    "    return c"
   ]
  },
  {
   "cell_type": "code",
   "execution_count": 176,
   "metadata": {},
   "outputs": [
    {
     "data": {
      "text/plain": [
       "'A#SAYANSEDENG#MA#COBRIENK%%PSI'"
      ]
     },
     "execution_count": 176,
     "metadata": {},
     "output_type": "execute_result"
    }
   ],
   "source": [
    "enpermutasi('SAYA#SEDANG#MENCOBA#ENKRIPSI')"
   ]
  },
  {
   "cell_type": "code",
   "execution_count": 143,
   "metadata": {},
   "outputs": [],
   "source": [
    "#DEKRIPSI PERMUTASI\n",
    "#seperti di video\n",
    "#dekripsi dengan cara memasukkan cipherteks langsung pada variabel depermutasi()\n",
    "\n",
    "def depermutasi(c):\n",
    "    p=\"\"\n",
    "    while len(c)%5!=0:\n",
    "        c = c + '%'\n",
    "    for i in range(len(c)//5):\n",
    "        p=p+c[2+(5*i)]\n",
    "        p=p+c[3+(5*i)]\n",
    "        p=p+c[4+(5*i)]\n",
    "        p=p+c[0+(5*i)]\n",
    "        p=p+c[1+(5*i)]\n",
    "    return p"
   ]
  },
  {
   "cell_type": "code",
   "execution_count": 144,
   "metadata": {},
   "outputs": [
    {
     "data": {
      "text/plain": [
       "'SAYA#SEDANG#MENCOBA#ENKRIPSI%%'"
      ]
     },
     "execution_count": 144,
     "metadata": {},
     "output_type": "execute_result"
    }
   ],
   "source": [
    "depermutasi('A#SAYANSEDENG#MA#COBRIENK%%PSI')"
   ]
  },
  {
   "cell_type": "markdown",
   "metadata": {},
   "source": [
    "# Coba dengan def dan inputan"
   ]
  },
  {
   "cell_type": "markdown",
   "metadata": {},
   "source": [
    "### ini untuk ENKRIPSI PERMUTASI"
   ]
  },
  {
   "cell_type": "code",
   "execution_count": 171,
   "metadata": {},
   "outputs": [],
   "source": [
    "#CONTOH\n",
    "def decrypt():\n",
    "    print (\"Plaintext : \" + input (\"Masukkan plaintext : \"))\n",
    "    print(\"Plaintext : \" + p)\n",
    "    \n",
    "    \n",
    "def enpermutasi(p):\n",
    "    c=\"\"\n",
    "    while len(p)%5!=0:\n",
    "        p = p + '%'\n",
    "    for i in range(len(p)//5):\n",
    "        c=c+p[3+(5*i)]    #ini bisa dirapikan mungkin dengan for\n",
    "        c=c+p[4+(5*i)]    #atau dengan yang lainnnya\n",
    "        c=c+p[0+(5*i)]\n",
    "        c=c+p[1+(5*i)]\n",
    "        c=c+p[2+(5*i)]\n",
    "    return c\n",
    "\n",
    "#PLAINTEKS : SAYA#SEDANG#MENCOBA#ENKRIPSI\n",
    "#CIPHERTEKS : A#SAYANSEDENG#MA#COBRIENK%%PSI"
   ]
  },
  {
   "cell_type": "code",
   "execution_count": 15,
   "metadata": {},
   "outputs": [],
   "source": [
    "def enpermutasi():\n",
    "    p = input(\"Masukkan plainteks : \")\n",
    "    print(\"Plaintext : \" + p)\n",
    "    c=\"\"\n",
    "    while len(p)%5!=0:\n",
    "        p = p + '%'\n",
    "    for i in range(len(p)//5):\n",
    "        c=c+p[3+(5*i)]    #ini bisa dirapikan mungkin dengan for\n",
    "        c=c+p[4+(5*i)]    #atau dengan yang lainnnya\n",
    "        c=c+p[0+(5*i)]\n",
    "        c=c+p[1+(5*i)]\n",
    "        c=c+p[2+(5*i)]\n",
    "    return c\n",
    "    "
   ]
  },
  {
   "cell_type": "code",
   "execution_count": 16,
   "metadata": {},
   "outputs": [
    {
     "name": "stdout",
     "output_type": "stream",
     "text": [
      "Masukkan plainteks : SAYA#SEDANG#MENCOBA#ENKRIPSI\n",
      "Plaintext : SAYA#SEDANG#MENCOBA#ENKRIPSI\n"
     ]
    },
    {
     "data": {
      "text/plain": [
       "'A#SAYANSEDENG#MA#COBRIENK%%PSI'"
      ]
     },
     "execution_count": 16,
     "metadata": {},
     "output_type": "execute_result"
    }
   ],
   "source": [
    "enpermutasi()      #sudah sesuai\n",
    "                #tinggal manggil doang nih :'v"
   ]
  },
  {
   "cell_type": "markdown",
   "metadata": {},
   "source": [
    "### ini untuk DEKRIPSI PERMUTASI"
   ]
  },
  {
   "cell_type": "code",
   "execution_count": null,
   "metadata": {},
   "outputs": [],
   "source": [
    "#CONTOH\n",
    "\n",
    "def enpermutasi():\n",
    "    p = input(\"Masukkan plainteks : \")\n",
    "    print(\"Plaintext : \" + p)\n",
    "\n",
    "def depermutasi(c):\n",
    "    p=\"\"\n",
    "    while len(c)%5!=0:\n",
    "        c = c + '%'\n",
    "    for i in range(len(c)//5):\n",
    "        p=p+c[2+(5*i)]\n",
    "        p=p+c[3+(5*i)]\n",
    "        p=p+c[4+(5*i)]\n",
    "        p=p+c[0+(5*i)]\n",
    "        p=p+c[1+(5*i)]\n",
    "    return p"
   ]
  },
  {
   "cell_type": "code",
   "execution_count": 13,
   "metadata": {},
   "outputs": [],
   "source": [
    "def depermutasi():\n",
    "    c= input(\"Masukkan Cipherteks : \")\n",
    "    print(\"Cipherteks : \" + c)\n",
    "    p=\"\"\n",
    "    while len(c)%5!=0:\n",
    "        c = c + '%'\n",
    "    for i in range(len(c)//5):\n",
    "        p=p+c[2+(5*i)]\n",
    "        p=p+c[3+(5*i)]\n",
    "        p=p+c[4+(5*i)]\n",
    "        p=p+c[0+(5*i)]\n",
    "        p=p+c[1+(5*i)]\n",
    "    return p\n",
    "    "
   ]
  },
  {
   "cell_type": "code",
   "execution_count": 14,
   "metadata": {},
   "outputs": [
    {
     "name": "stdout",
     "output_type": "stream",
     "text": [
      "Masukkan Cipherteks : A#SAYANSEDENG#MA#COBRIENK%%PSI\n",
      "Cipherteks : A#SAYANSEDENG#MA#COBRIENK%%PSI\n"
     ]
    },
    {
     "data": {
      "text/plain": [
       "'SAYA#SEDANG#MENCOBA#ENKRIPSI%%'"
      ]
     },
     "execution_count": 14,
     "metadata": {},
     "output_type": "execute_result"
    }
   ],
   "source": [
    "depermutasi()   #sudah sesuai\n",
    "                #tinggal manggil doang nih :'v"
   ]
  },
  {
   "cell_type": "code",
   "execution_count": null,
   "metadata": {},
   "outputs": [],
   "source": []
  }
 ],
 "metadata": {
  "kernelspec": {
   "display_name": "Python 3",
   "language": "python",
   "name": "python3"
  },
  "language_info": {
   "codemirror_mode": {
    "name": "ipython",
    "version": 3
   },
   "file_extension": ".py",
   "mimetype": "text/x-python",
   "name": "python",
   "nbconvert_exporter": "python",
   "pygments_lexer": "ipython3",
   "version": "3.7.6"
  }
 },
 "nbformat": 4,
 "nbformat_minor": 4
}
