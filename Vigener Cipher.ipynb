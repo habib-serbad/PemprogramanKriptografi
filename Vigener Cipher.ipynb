{
 "cells": [
  {
   "cell_type": "markdown",
   "metadata": {},
   "source": [
    "Vigenere Cipher (6 Oktober 2021)"
   ]
  },
  {
   "cell_type": "code",
   "execution_count": 1,
   "metadata": {},
   "outputs": [],
   "source": [
    "#Vigenere cipher merupakan modifikasi dari caesar cipher\n",
    "#kalo di caesar cipher dia kuncinya cuma 1\n",
    "#kalo vigenere kuncinya menggunakan kata\" dan itu panjang (karna berulang)\n",
    "#contoh ada plaintext panjangnya 20, kuncinya : sony -> kunci di ulangi hingga plaintext habis\n",
    "#thisplaintext (PLAINTEXT)\n",
    "#sonysonysonys (KUNCI)\n",
    "#LVVQHZNGFHRVL (CIPHERTEXT)\n",
    "\n",
    "#tinggal ditambah saja kemudian di modulo\n",
    "#enkripsi : dijumlahkan ; dekripsi : dikurangi"
   ]
  },
  {
   "cell_type": "code",
   "execution_count": 6,
   "metadata": {},
   "outputs": [],
   "source": [
    "def encrypt_vigenere(string, key):\n",
    "    cipher_text = []\n",
    "    for i in range(len(string)):\n",
    "        x = (ord(string[i]) + ord(key[i])) #ord = ordinary dari \n",
    "        \n",
    "        cipher_text.append(chr(x))\n",
    "    return(\"\" . join(cipher_text))\n",
    "\n",
    "def decrypt_vigenere(cipher_text, key):\n",
    "    orig_text = []\n",
    "    for i in range(len(cipher_text)):\n",
    "        x = (ord(cipher_text[i]) - ord(key[i]))\n",
    "        \n",
    "        orig_text.append(chr(x))\n",
    "    return(\"\" . join(orig_text))\n",
    "\n",
    "\n",
    "#script ini panjang kuncinya harus sama panjangnya dengan plaintext\n",
    "#belum ada modulo, harus di modifikasi, program kurang sempurna\n",
    "#karena belum ada modulo, jadinya dia kurang sesuai dengan huruf alphabet"
   ]
  },
  {
   "cell_type": "code",
   "execution_count": 7,
   "metadata": {},
   "outputs": [
    {
     "data": {
      "text/plain": [
       "'æèäÒÜÎ'"
      ]
     },
     "execution_count": 7,
     "metadata": {},
     "output_type": "execute_result"
    }
   ],
   "source": [
    "encrypt_vigenere('string', 'string')"
   ]
  },
  {
   "cell_type": "code",
   "execution_count": 8,
   "metadata": {},
   "outputs": [
    {
     "data": {
      "text/plain": [
       "'string'"
      ]
     },
     "execution_count": 8,
     "metadata": {},
     "output_type": "execute_result"
    }
   ],
   "source": [
    "decrypt_vigenere('raxau jeyapkays hvawao sbld rwmljbsn mauysl eygpl slbacao crtpaggcama pldh raxau jeyapkays twnnaast ouh uiahlj sfbaatfsp qayg awrveusl llngrttts pprasml aksllh cagpnlje niwzec yhfg oiwmbwirsstkhf oweo vialveae pljaycpk bprusml bsside kw vtglfece\n",
    "' , 'string')"
   ]
  },
  {
   "cell_type": "code",
   "execution_count": 10,
   "metadata": {},
   "outputs": [
    {
     "ename": "IndexError",
     "evalue": "string index out of range",
     "output_type": "error",
     "traceback": [
      "\u001b[1;31m---------------------------------------------------------------------------\u001b[0m",
      "\u001b[1;31mIndexError\u001b[0m                                Traceback (most recent call last)",
      "\u001b[1;32m<ipython-input-10-bbee9630af3a>\u001b[0m in \u001b[0;36m<module>\u001b[1;34m\u001b[0m\n\u001b[1;32m----> 1\u001b[1;33m \u001b[0mencrypt_vigenere\u001b[0m\u001b[1;33m(\u001b[0m\u001b[1;34m'sayamakannasi'\u001b[0m\u001b[1;33m,\u001b[0m \u001b[1;34m'string'\u001b[0m\u001b[1;33m)\u001b[0m\u001b[1;33m\u001b[0m\u001b[1;33m\u001b[0m\u001b[0m\n\u001b[0m\u001b[0;32m      2\u001b[0m \u001b[1;33m\u001b[0m\u001b[0m\n\u001b[0;32m      3\u001b[0m \u001b[1;31m#dia tidak akan ke run karena panjang kunci tidak sama dg panjang plaintext\u001b[0m\u001b[1;33m\u001b[0m\u001b[1;33m\u001b[0m\u001b[1;33m\u001b[0m\u001b[0m\n\u001b[0;32m      4\u001b[0m \u001b[1;31m#supaya kunci bisa berulang menggunakan while\u001b[0m\u001b[1;33m\u001b[0m\u001b[1;33m\u001b[0m\u001b[1;33m\u001b[0m\u001b[0m\n",
      "\u001b[1;32m<ipython-input-6-389e01be88ed>\u001b[0m in \u001b[0;36mencrypt_vigenere\u001b[1;34m(string, key)\u001b[0m\n\u001b[0;32m      2\u001b[0m     \u001b[0mcipher_text\u001b[0m \u001b[1;33m=\u001b[0m \u001b[1;33m[\u001b[0m\u001b[1;33m]\u001b[0m\u001b[1;33m\u001b[0m\u001b[1;33m\u001b[0m\u001b[0m\n\u001b[0;32m      3\u001b[0m     \u001b[1;32mfor\u001b[0m \u001b[0mi\u001b[0m \u001b[1;32min\u001b[0m \u001b[0mrange\u001b[0m\u001b[1;33m(\u001b[0m\u001b[0mlen\u001b[0m\u001b[1;33m(\u001b[0m\u001b[0mstring\u001b[0m\u001b[1;33m)\u001b[0m\u001b[1;33m)\u001b[0m\u001b[1;33m:\u001b[0m\u001b[1;33m\u001b[0m\u001b[1;33m\u001b[0m\u001b[0m\n\u001b[1;32m----> 4\u001b[1;33m         \u001b[0mx\u001b[0m \u001b[1;33m=\u001b[0m \u001b[1;33m(\u001b[0m\u001b[0mord\u001b[0m\u001b[1;33m(\u001b[0m\u001b[0mstring\u001b[0m\u001b[1;33m[\u001b[0m\u001b[0mi\u001b[0m\u001b[1;33m]\u001b[0m\u001b[1;33m)\u001b[0m \u001b[1;33m+\u001b[0m \u001b[0mord\u001b[0m\u001b[1;33m(\u001b[0m\u001b[0mkey\u001b[0m\u001b[1;33m[\u001b[0m\u001b[0mi\u001b[0m\u001b[1;33m]\u001b[0m\u001b[1;33m)\u001b[0m\u001b[1;33m)\u001b[0m \u001b[1;31m#ord = ordinary dari\u001b[0m\u001b[1;33m\u001b[0m\u001b[1;33m\u001b[0m\u001b[0m\n\u001b[0m\u001b[0;32m      5\u001b[0m \u001b[1;33m\u001b[0m\u001b[0m\n\u001b[0;32m      6\u001b[0m         \u001b[0mcipher_text\u001b[0m\u001b[1;33m.\u001b[0m\u001b[0mappend\u001b[0m\u001b[1;33m(\u001b[0m\u001b[0mchr\u001b[0m\u001b[1;33m(\u001b[0m\u001b[0mx\u001b[0m\u001b[1;33m)\u001b[0m\u001b[1;33m)\u001b[0m\u001b[1;33m\u001b[0m\u001b[1;33m\u001b[0m\u001b[0m\n",
      "\u001b[1;31mIndexError\u001b[0m: string index out of range"
     ]
    }
   ],
   "source": [
    "encrypt_vigenere('sayamakannasi', 'string') \n",
    "\n",
    "#dia tidak akan ke run karena panjang kunci tidak sama dg panjang plaintext\n",
    "#supaya kunci bisa berulang menggunakan while"
   ]
  },
  {
   "cell_type": "code",
   "execution_count": 27,
   "metadata": {},
   "outputs": [],
   "source": [
    "# Python code to implement\n",
    "# Vigenere Cipher\n",
    "\n",
    "# This function generates the\n",
    "# key in a cyclic manner until\n",
    "# it's length isn't equal to\n",
    "# the length of original text\n",
    "def generateKey(string, key):\n",
    "    key = list(key)\n",
    "    if len(string) == len(key):\n",
    "        return(key)\n",
    "    else:\n",
    "        for i in range(len(string) -\n",
    "                       len(key)):\n",
    "            key.append(key[i % len(key)])\n",
    "        return(\"\" . join(key))\n",
    "    \n",
    "    \n",
    "# This function returns the\n",
    "# encrypted text generated\n",
    "# with the help of the key\n",
    "\n",
    "def cipherText(string, key):\n",
    "    cipher_text = []\n",
    "    for i in range(len(string)):\n",
    "        x = (ord(string[i]) +\n",
    "            ord(key[i])) % 26\n",
    "        x += ord('A')\n",
    "        cipher_text.append(chr(x))\n",
    "    return(\"\" . join(cipher_text))\n",
    "\n",
    "\n",
    "# This function decrypts the\n",
    "# encrypted text and returns\n",
    "# the original text\n",
    "\n",
    "def originalText(cipher_text, key):\n",
    "    orig_text = []\n",
    "    for i in range(len(cipher_text)):\n",
    "        x = (ord(cipher_text[i]) -\n",
    "            ord(key[i]) + 26) % 26\n",
    "        x += ord('A')\n",
    "        orig_text.append(chr(x))\n",
    "    return(\"\" . join(orig_text))\n",
    "\n",
    "# Driver code\n",
    "def encrypt(string):    \n",
    "    if __name__ == \"__main__\":\n",
    "        string = input(\"Masukkan Plaintext: \")\n",
    "        keyword = input(\"Masukkan Keyword: \")\n",
    "        key = generateKey(string, keyword)\n",
    "        cipher_text = cipherText(string,key)\n",
    "        print(\"Ciphertext :\", cipher_text)\n",
    "        print(\"Original/Decrypted Text :\",\n",
    "            originalText(cipher_text, key))\n",
    "\n",
    "# This code is contributed\n",
    "# by Pratik Somwanshi\n"
   ]
  },
  {
   "cell_type": "code",
   "execution_count": 29,
   "metadata": {},
   "outputs": [
    {
     "name": "stdout",
     "output_type": "stream",
     "text": [
      "Masukkan Plaintext: SAYAMAKANNASIKUNING\n",
      "Masukkan Keyword: DIAKU\n",
      "Ciphertext : VIYKGDSAXHDAIUOQQNQ\n",
      "Original/Decrypted Text : SAYAMAKANNASIKUNING\n"
     ]
    }
   ],
   "source": [
    "encrypt('')"
   ]
  },
  {
   "cell_type": "code",
   "execution_count": null,
   "metadata": {},
   "outputs": [],
   "source": [
    "for i in range(1,26):\n",
    "    print(i)\n",
    "    print(decrypt('raxau jeyapkays hvawao sbld rwmljbsn mauysl eygpl slbacao crtpaggcama pldh raxau jeyapkays twnnaast ouh uiahlj sfbaatfsp qayg awrveusl llngrttts pprasml aksllh cagpnlje niwzec yhfg oiwmbwirsstkhf oweo vialveae pljaycpk bprusml bsside kw vtglfece\n",
    "'))"
   ]
  }
 ],
 "metadata": {
  "kernelspec": {
   "display_name": "Python 3",
   "language": "python",
   "name": "python3"
  },
  "language_info": {
   "codemirror_mode": {
    "name": "ipython",
    "version": 3
   },
   "file_extension": ".py",
   "mimetype": "text/x-python",
   "name": "python",
   "nbconvert_exporter": "python",
   "pygments_lexer": "ipython3",
   "version": "3.7.6"
  }
 },
 "nbformat": 4,
 "nbformat_minor": 4
}
