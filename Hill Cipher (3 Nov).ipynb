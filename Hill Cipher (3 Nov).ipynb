{
 "cells": [
  {
   "cell_type": "markdown",
   "metadata": {},
   "source": [
    "# Hill Cipher"
   ]
  },
  {
   "cell_type": "code",
   "execution_count": 8,
   "metadata": {},
   "outputs": [],
   "source": [
    "#Dikembangkan oleh Lester Hill (1929)\n",
    "#Menggunakan m buah persamaan linier\n",
    "#Untuk m=3 (enkripsi setiap 3 huruf), \n",
    "\n",
    "#c1=(k11p1 + k12p2 + k13p3)mod 26 => ( C1 C2 C3) = (k11 k12 k13)(p1)\n",
    "#c1=(k21p1 + k22p2 + k23p3)mod 26                   k21 k22 k23  p2\n",
    "#c1=(k31p1 + k32p2 + k33p3)mod 26                   k31 k32 k33  p3\n",
    "                                          #C = KP"
   ]
  },
  {
   "cell_type": "code",
   "execution_count": 9,
   "metadata": {},
   "outputs": [],
   "source": [
    "### Contoh:\n",
    "#K = (17 17 5 , 21 18 21 , 2 2 19 )\n",
    "\n",
    "#Plainteks: paymoremoney\n",
    "#Enkripsi tiga huruf pertama : pay= (15, 0, 24 )\n",
    "#Ciphertext: C= (17 17 5 , 21 18 21 , 2 2 19 )(15 0 24) \n",
    "             #= (375 819 486)mod 26 = (11 13 18) = LNS\n",
    "                 \n",
    "#Ciphertext selanjutnya: LNSHDLEWMTRW"
   ]
  },
  {
   "cell_type": "code",
   "execution_count": 10,
   "metadata": {},
   "outputs": [],
   "source": [
    "#Hill cipher memanfaatkan sifat matrik, kalo plaintext kali inversnya\n",
    "#jadinya matriks identitas\n",
    "#cara menghitung invers 2x2\n",
    "#K = ( a b , c d )\n",
    "# k^-1 = 1/det(K) (d -b , -c a) = 1/ad - bc (d -b , -c a)"
   ]
  },
  {
   "cell_type": "code",
   "execution_count": 12,
   "metadata": {},
   "outputs": [],
   "source": [
    "#kekuatan  Hill cipher terletak pada penyembunyian \n",
    "#frekuensi huruf tunggal\n",
    "#hruuf plainteks yang sama belum tentu dienkripsi menjadi \n",
    "#huruf cipherteks yang sama\n",
    "#hill c. mudah dipecahkan dengan know-plaintext attack"
   ]
  },
  {
   "cell_type": "code",
   "execution_count": 33,
   "metadata": {},
   "outputs": [],
   "source": [
    "from sympy import *\n",
    "#A dictionary huruf dari huruf ke angka\n",
    "A={'a':0, 'b':1, 'c':2, 'd':3, 'e':4, 'f':5, 'g':6, 'h':7, \n",
    "   'i':8, 'j':9, 'k':10, 'l':11, 'm':12, 'n':13,\n",
    "    'o':14, 'p':15, 'q':16, 'r':17, 's':18, 't':19, \n",
    "   'u':20, 'v':21, 'w':22, 'x':23,'y':24,'z':25}\n",
    "    #H adalah dictionary huruf, dari angka ke huruf\n",
    "H={0:'a', 1:'b', 2:'c', 3:'d', 4:'e', 5:'f', 6:'g', 7:'h', \n",
    "   8:'i', 9:'j', 10:'k', 11:'l', 12:'m', 13:'n',\n",
    "    14:'o', 15:'p', 16:'q', 17:'r', 18:'s', 19:'t', 20:'u', \n",
    "   21:'v', 22:'w', 23:'x', 24:'y', 25:'z'}"
   ]
  },
  {
   "cell_type": "code",
   "execution_count": 34,
   "metadata": {},
   "outputs": [
    {
     "name": "stdout",
     "output_type": "stream",
     "text": [
      "Chipetext : exuc\n"
     ]
    }
   ],
   "source": [
    "#ENKRIPSI HILL CIPHER\n",
    "#Ini dengan cara plainteks langsung di tulis di p\n",
    "\n",
    "p= 'pagi'\n",
    "c=''\n",
    "i=0\n",
    "K=Matrix(([2,1], [5,3]))   #kunci\n",
    "while i<len(p):\n",
    "    P=Matrix((A[p[i]], A[p[i+1]]))\n",
    "    C=K*P                  #kunci kali plaintext\n",
    "    c=c+H[C[0]%26] + H[C[1]%26]\n",
    "    i=i+2\n",
    "print(\"Chipetext : \" + c)"
   ]
  },
  {
   "cell_type": "code",
   "execution_count": 35,
   "metadata": {},
   "outputs": [],
   "source": [
    "#ENKRIPSI HILL CIPHER\n",
    "#Ini dengan cara input langsung untuk plainteks dan elemen pada matriks\n",
    "\n",
    "\n",
    "def encrypt():    #ini kalo ga pake def juga gapapa. nanti bisa di hapus\n",
    "                    #hasilnya kalo ga pake def itu setelah run script bagian ini, langsung muncul input\n",
    "    p= input(\"masukkan plaintext: \")\n",
    "    c=''\n",
    "    i=0\n",
    "    K=Matrix(([int(input(\"elemen matriks a : \")),int(input(\"elemen matriks b : \"))], \n",
    "              [int(input(\"elemen matriks c : \")),int(input(\"elemen matriks d : \"))]))   #kunci\n",
    "    print(K)\n",
    "    while i<len(p):\n",
    "        P=Matrix((A[p[i]], A[p[i+1]]))\n",
    "        C=K*P                  #kunci kali plaintext\n",
    "        c=c+H[C[0]%26] + H[C[1]%26]\n",
    "        i=i+2\n",
    "    print(\"Chipetext : \" + c)\n"
   ]
  },
  {
   "cell_type": "code",
   "execution_count": 31,
   "metadata": {
    "scrolled": true
   },
   "outputs": [
    {
     "name": "stdout",
     "output_type": "stream",
     "text": [
      "masukkan plaintext: pagi\n",
      "elemen matriks a : 2\n",
      "elemen matriks b : 1\n",
      "elemen matriks c : 5\n",
      "elemen matriks d : 3\n",
      "Matrix([[2, 1], [5, 3]])\n",
      "Chipetext : exuc\n"
     ]
    }
   ],
   "source": [
    "#ini tinggal manggil encrypt nanti bisa input plainteks sama matriks nya\n",
    "\n",
    "encrypt()"
   ]
  },
  {
   "cell_type": "code",
   "execution_count": 36,
   "metadata": {},
   "outputs": [
    {
     "name": "stdout",
     "output_type": "stream",
     "text": [
      "Plaintext adalah : pagi\n"
     ]
    }
   ],
   "source": [
    "#DEKRIPSI HILL CIPHER\n",
    "#Ini dengan cara dr video, cipherteks langsung ditaruh di c\n",
    "#dictionary sudah di run terlebih dahulu di atas. \n",
    "\n",
    "c = 'exuc'\n",
    "p=''\n",
    "i=0\n",
    "K=Matrix(([2,1],[5,3]))       #kunci langsung di isi di K\n",
    "while i<len(c):\n",
    "    C=Matrix((A[c[i]], A[c[i+1]]))\n",
    "    P=K.inv()*C         #invers modulo dari determinan dikali determinan \n",
    "    i=i+2         \n",
    "    p=p+H[P[0]%26] + H[P[1]%26]\n",
    "print (\"Plaintext adalah :\", p)"
   ]
  },
  {
   "cell_type": "code",
   "execution_count": 38,
   "metadata": {},
   "outputs": [],
   "source": [
    "#DEKRIPSI HILL CIPHER\n",
    "#Ini dengan cara dr video, cipherteks langsung ditaruh di c\n",
    "#dictionary sudah di run terlebih dahulu di atas. \n",
    "\n",
    "def decrypt():\n",
    "    c = input (\"Masukkan ciphertext : \")\n",
    "    p=''\n",
    "    i=0\n",
    "    K=Matrix(([int(input(\"elemen matriks a : \")),int(input(\"elemen matriks b : \"))], \n",
    "                  [int(input(\"elemen matriks c : \")),int(input(\"elemen matriks d : \"))]))  \n",
    "        #K adalah kunci yang awalnya adalah [2 1] [5 3], ada di video\n",
    "    while i<len(c):\n",
    "        C=Matrix((A[c[i]], A[c[i+1]]))\n",
    "        P=K.inv()*C   #invers modulo dari determinan dikali determinan \n",
    "        i=i+2         \n",
    "        p=p+H[P[0]%26] + H[P[1]%26]\n",
    "    print (\"Plaintext adalah :\", p)"
   ]
  },
  {
   "cell_type": "code",
   "execution_count": 39,
   "metadata": {},
   "outputs": [
    {
     "name": "stdout",
     "output_type": "stream",
     "text": [
      "Masukkan ciphertext : exuc\n",
      "elemen matriks a : 2\n",
      "elemen matriks b : 1\n",
      "elemen matriks c : 5\n",
      "elemen matriks d : 3\n",
      "Plaintext adalah : pagi\n"
     ]
    }
   ],
   "source": [
    "decrypt()"
   ]
  },
  {
   "cell_type": "code",
   "execution_count": null,
   "metadata": {},
   "outputs": [],
   "source": []
  }
 ],
 "metadata": {
  "kernelspec": {
   "display_name": "Python 3",
   "language": "python",
   "name": "python3"
  },
  "language_info": {
   "codemirror_mode": {
    "name": "ipython",
    "version": 3
   },
   "file_extension": ".py",
   "mimetype": "text/x-python",
   "name": "python",
   "nbconvert_exporter": "python",
   "pygments_lexer": "ipython3",
   "version": "3.7.6"
  }
 },
 "nbformat": 4,
 "nbformat_minor": 4
}
