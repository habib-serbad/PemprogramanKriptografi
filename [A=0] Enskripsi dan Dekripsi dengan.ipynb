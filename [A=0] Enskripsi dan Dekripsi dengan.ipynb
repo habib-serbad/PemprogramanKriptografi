{
 "cells": [
  {
   "cell_type": "code",
   "execution_count": 2,
   "metadata": {
    "scrolled": true
   },
   "outputs": [
    {
     "ename": "SyntaxError",
     "evalue": "invalid syntax (<ipython-input-2-9a66d1bef3db>, line 20)",
     "output_type": "error",
     "traceback": [
      "\u001b[1;36m  File \u001b[1;32m\"<ipython-input-2-9a66d1bef3db>\"\u001b[1;36m, line \u001b[1;32m20\u001b[0m\n\u001b[1;33m    print plaintext()\u001b[0m\n\u001b[1;37m                  ^\u001b[0m\n\u001b[1;31mSyntaxError\u001b[0m\u001b[1;31m:\u001b[0m invalid syntax\n"
     ]
    }
   ],
   "source": [
    "# we need 2 helper mappings, from letters to ints and the inverse\n",
    "L2I = dict(zip(\"ABCDEFGHIJKLMNOPQRSTUVWXYZ\",range(26)))\n",
    "I2L = dict(zip(range(26),\"ABCDEFGHIJKLMNOPQRSTUVWXYZ\"))\n",
    "\n",
    "key = 3\n",
    "plaintext = \"DEFEND THE EAST WALL OF THE CASTLE\"\n",
    "\n",
    "# encipher\n",
    "ciphertext = \"\"\n",
    "for c in plaintext.upper():\n",
    "    if c.isalpha(): ciphertext += I2L[ (L2I[c] + key)%26 ]\n",
    "    else: ciphertext += c\n",
    "\n",
    "# decipher\n",
    "plaintext2 = \"\"\n",
    "for c in ciphertext.upper():\n",
    "    if c.isalpha(): plaintext2 += I2L[ (L2I[c] - key)%26 ]\n",
    "    else: plaintext2 += c\n",
    "\n",
    "print plaintext\n",
    "print ciphertext\n",
    "print plaintext2"
   ]
  },
  {
   "cell_type": "markdown",
   "metadata": {},
   "source": [
    "# Proses Enkripsi dan Dekripsi pada Python"
   ]
  },
  {
   "cell_type": "code",
   "execution_count": 3,
   "metadata": {},
   "outputs": [],
   "source": [
    "p='aku' ; "
   ]
  },
  {
   "cell_type": "code",
   "execution_count": 9,
   "metadata": {},
   "outputs": [
    {
     "data": {
      "text/plain": [
       "'u'"
      ]
     },
     "execution_count": 9,
     "metadata": {},
     "output_type": "execute_result"
    }
   ],
   "source": [
    "p"
   ]
  },
  {
   "cell_type": "code",
   "execution_count": 10,
   "metadata": {},
   "outputs": [
    {
     "data": {
      "text/plain": [
       "'a'"
      ]
     },
     "execution_count": 10,
     "metadata": {},
     "output_type": "execute_result"
    }
   ],
   "source": [
    "p[0]"
   ]
  },
  {
   "cell_type": "code",
   "execution_count": 11,
   "metadata": {},
   "outputs": [
    {
     "data": {
      "text/plain": [
       "'k'"
      ]
     },
     "execution_count": 11,
     "metadata": {},
     "output_type": "execute_result"
    }
   ],
   "source": [
    "p[1]"
   ]
  },
  {
   "cell_type": "code",
   "execution_count": 12,
   "metadata": {},
   "outputs": [
    {
     "data": {
      "text/plain": [
       "'u'"
      ]
     },
     "execution_count": 12,
     "metadata": {},
     "output_type": "execute_result"
    }
   ],
   "source": [
    "p[2]"
   ]
  },
  {
   "cell_type": "code",
   "execution_count": 13,
   "metadata": {},
   "outputs": [
    {
     "data": {
      "text/plain": [
       "97"
      ]
     },
     "execution_count": 13,
     "metadata": {},
     "output_type": "execute_result"
    }
   ],
   "source": [
    "ord('a') #ord itu huruf menjadi angka (huruf ASCII)"
   ]
  },
  {
   "cell_type": "code",
   "execution_count": 14,
   "metadata": {},
   "outputs": [
    {
     "data": {
      "text/plain": [
       "'B'"
      ]
     },
     "execution_count": 14,
     "metadata": {},
     "output_type": "execute_result"
    }
   ],
   "source": [
    "chr(66) #chr itu dari angka menjadi huruf (huruf ASCII)"
   ]
  },
  {
   "cell_type": "code",
   "execution_count": 15,
   "metadata": {},
   "outputs": [],
   "source": [
    "ct=''"
   ]
  },
  {
   "cell_type": "code",
   "execution_count": 16,
   "metadata": {},
   "outputs": [],
   "source": [
    "#proses enkripsi (ditambah kunci)\n",
    "\n",
    "for i in range (0, len(p)):\n",
    "    c=chr(ord(p[i])+3) #chiper text itu plain text + kunci (diangka kan dulu pakai ord dari pesan). kunci = 3.\n",
    "    #terus dikasih chr supaya dia balik jadi text\n",
    "    ct=ct+c"
   ]
  },
  {
   "cell_type": "code",
   "execution_count": 18,
   "metadata": {},
   "outputs": [
    {
     "data": {
      "text/plain": [
       "'dnx'"
      ]
     },
     "execution_count": 18,
     "metadata": {},
     "output_type": "execute_result"
    }
   ],
   "source": [
    "ct #melihat hasil dari p tadi. \n",
    "\n",
    "#alurnya:\n",
    "#(a=97) + 3 = 100. Dalam ASCII, 100 adalah huruf D\n",
    "#begitu seterusnya untuk huruf K dan huruf U"
   ]
  },
  {
   "cell_type": "code",
   "execution_count": 19,
   "metadata": {},
   "outputs": [
    {
     "data": {
      "text/plain": [
       "'aku'"
      ]
     },
     "execution_count": 19,
     "metadata": {},
     "output_type": "execute_result"
    }
   ],
   "source": [
    "p"
   ]
  },
  {
   "cell_type": "code",
   "execution_count": 20,
   "metadata": {},
   "outputs": [],
   "source": [
    "pt=''"
   ]
  },
  {
   "cell_type": "code",
   "execution_count": 21,
   "metadata": {},
   "outputs": [],
   "source": [
    "p=''"
   ]
  },
  {
   "cell_type": "code",
   "execution_count": 23,
   "metadata": {},
   "outputs": [],
   "source": [
    "#proses dekripsi ()\n",
    "for i in range (0, len(ct)):\n",
    "    p=chr(ord(ct[i])-3) #dikurangi kunci (kunci=3)\n",
    "    pt = pt + p"
   ]
  },
  {
   "cell_type": "code",
   "execution_count": 24,
   "metadata": {},
   "outputs": [
    {
     "data": {
      "text/plain": [
       "'aku'"
      ]
     },
     "execution_count": 24,
     "metadata": {},
     "output_type": "execute_result"
    }
   ],
   "source": [
    "pt"
   ]
  },
  {
   "cell_type": "markdown",
   "metadata": {},
   "source": [
    "# Menggunakan Pendefinisian dengan A=0"
   ]
  },
  {
   "cell_type": "code",
   "execution_count": 1,
   "metadata": {},
   "outputs": [],
   "source": [
    "#sekarang menggunakan penomoran a=0\n",
    "\n",
    "def encrypt(p,k): #parameter=pesan(p) dan kunci(k). butuh inputan\n",
    "    #A adalah dictionary angka, dari huruf ke angka\n",
    "    A={'a':0, 'b':1, 'c':2, 'd':3, 'e':4, 'f':5, 'g':6, 'h':7, 'i':8, 'j':9, 'k':10, 'l':11, 'm':12, 'n':13,\n",
    "       'o':14, 'p':15, 'q':16, 'r':17, 's':18, 't':19, 'u':20, 'v':21, 'w':22, 'x':23,'y':24,'z':25, ',':26}\n",
    "    #H adalah dictionary huruf, dari angka ke huruf\n",
    "    H={0:'a', 1:'b', 2:'c', 3:'d', 4:'e', 5:'f', 6:'g', 7:'h', 8:'i', 9:'j', 10:'k', 11:'l', 12:'m', 13:'n',\n",
    "       14:'o', 15:'p', 16:'q', 17:'r', 18:'s', 19:'t', 20:'u', 21:'v', 22:'w', 23:'x', 24:'y', 25:'z', 26:','}\n",
    "    c=''\n",
    "    b=len(p) #banyak karakter, len(p)\n",
    "    \n",
    "    for i in range(0,b): #dari 0 sampai banyaknya pesan\n",
    "        if p[i]==' ': #disini ditambah spasi, kalo dia spasi\n",
    "            ct=' ' #maka akan tetap spasi\n",
    "        \n",
    "        else : #jika bukan spasi\n",
    "            ca=(A[p[i]] + k)%27 #ca=cipher angka. angka dari pesan ke i. pesannya di angkakan dulu lalu tambah kunci, \n",
    "                                #lalu di modulo 26\n",
    "            ct=H[ca] #dari angka tadi di hurufkan jadi ct=cipher text\n",
    "        c= c+ct \n",
    "    return c\n",
    "\n",
    "\n",
    "def decrypt(c,k):\n",
    "    A={'a':0, 'b':1, 'c':2, 'd':3, 'e':4, 'f':5, 'g':6, 'h':7, 'i':8, 'j':9, 'k':10, 'l':11, 'm':12, 'n':13,\n",
    "       'o':14, 'p':15, 'q':16, 'r':17, 's':18, 't':19, 'u':20, 'v':21, 'w':22, 'x':23,'y':24,'z':25, ',':26}\n",
    "    H={0:'a', 1:'b', 2:'c', 3:'d', 4:'e', 5:'f', 6:'g', 7:'h', 8:'i', 9:'j', 10:'k', 11:'l', 12:'m', 13:'n',\n",
    "       14:'o', 15:'p', 16:'q', 17:'r', 18:'s', 19:'t', 20:'u', 21:'v', 22:'w', 23:'x', 24:'y', 25:'z', 26:','}\n",
    "    p=''\n",
    "    b=len(c)\n",
    "    for i in range (0,b):\n",
    "        if c[i]==' ':\n",
    "            pt=' '\n",
    "        else :\n",
    "            pa=(A[c[i]]-k)%27\n",
    "            pt=H[pa]\n",
    "        p=p+pt\n",
    "    return p\n",
    "\n",
    "#alur dari dekripsi sama seperti enkripsi, hanya saja dia dikurangi dengan kunci"
   ]
  },
  {
   "cell_type": "code",
   "execution_count": null,
   "metadata": {},
   "outputs": [],
   "source": [
    "decrypt(afvgfwkas bmys ewehmfqsa dwetsys hwfvavacsf lafyya czmkmk va tavsfy cjahlgyjsxa qsfy  twjfses kwcgdsz lafyya ksfva fwysjs va csosksf uakwwfy cstmhslwf tgygj qsfy vavajacsf mflmc ewewfmza kve vsdse tavsfy hwjksfvasf)"
   ]
  },
  {
   "cell_type": "code",
   "execution_count": 3,
   "metadata": {},
   "outputs": [
    {
     "data": {
      "text/plain": [
       "'dnx ndx nxd'"
      ]
     },
     "execution_count": 3,
     "metadata": {},
     "output_type": "execute_result"
    }
   ],
   "source": [
    "encrypt('aku kau kua',3)"
   ]
  },
  {
   "cell_type": "code",
   "execution_count": 4,
   "metadata": {},
   "outputs": [
    {
     "data": {
      "text/plain": [
       "'aku kau kua'"
      ]
     },
     "execution_count": 4,
     "metadata": {},
     "output_type": "execute_result"
    }
   ],
   "source": [
    "decrypt('dnx ndx nxd',3)"
   ]
  },
  {
   "cell_type": "code",
   "execution_count": 5,
   "metadata": {},
   "outputs": [
    {
     "data": {
      "text/plain": [
       "'fpz xzifm rfpfs ufln nsn'"
      ]
     },
     "execution_count": 5,
     "metadata": {},
     "output_type": "execute_result"
    }
   ],
   "source": [
    "encrypt('aku sudah makan pagi ini', 5)"
   ]
  },
  {
   "cell_type": "code",
   "execution_count": 30,
   "metadata": {},
   "outputs": [
    {
     "data": {
      "text/plain": [
       "'afvgfwkas bmys ewehmfqsa dwetsys hwfvavacsf lafyya czmkmk va tavsfy cjahlgyjsxa qsfy  twjfses kwcgdsz lafyya ksfva fwysjs va csosksf uakwwfy cstmhslwf tgygj qsfy vavajacsf mflmc ewewfmza kve vsdse tavsfy hwjksfvasf'"
      ]
     },
     "execution_count": 30,
     "metadata": {},
     "output_type": "execute_result"
    }
   ],
   "source": [
    "decrypt('afvgfwkas bmys ewehmfqsa dwetsys hwfvavacsf lafyya czmkmk va tavsfy cjahlgyjsxa qsfy  twjfses kwcgdsz lafyya ksfva fwysjs va csosksf uakwwfy cstmhslwf tgygj qsfy vavajacsf mflmc ewewfmza kve vsdse tavsfy hwjksfvasf',0) #Chiper text dari si eka ke indri"
   ]
  },
  {
   "cell_type": "code",
   "execution_count": 13,
   "metadata": {
    "scrolled": true
   },
   "outputs": [
    {
     "name": "stdout",
     "output_type": "stream",
     "text": [
      "1\n",
      "tfnphb tfhfsb ejqfsufnvlbo bbnjjo\n",
      "2\n",
      "ugoqic ugigtc fkrgtvgowmcp ccokkp\n",
      "3\n",
      "vhprjd vhjhud glshuwhpxndq ddpllq\n",
      "4\n",
      "wiqske wikive hmtivxiqyoer eeqmmr\n",
      "5\n",
      "xjrtlf xjljwf inujwyjrzpfs ffrnns\n",
      "6\n",
      "yksumg ykmkxg jovkxzksaqgt ggsoot\n",
      "7\n",
      "zltvnh zlnlyh kpwlyaltbrhu hhtppu\n",
      "8\n",
      "amuwoi amomzi lqxmzbmucsiv iiuqqv\n",
      "9\n",
      "bnvxpj bnpnaj mrynacnvdtjw jjvrrw\n",
      "10\n",
      "cowyqk coqobk nszobdoweukx kkwssx\n",
      "11\n",
      "dpxzrl dprpcl otapcepxfvly llxtty\n",
      "12\n",
      "eqyasm eqsqdm pubqdfqygwmz mmyuuz\n",
      "13\n",
      "frzbtn frtren qvcregrzhxna nnzvva\n",
      "14\n",
      "gsacuo gsusfo rwdsfhsaiyob ooawwb\n",
      "15\n",
      "htbdvp htvtgp sxetgitbjzpc ppbxxc\n",
      "16\n",
      "iucewq iuwuhq tyfuhjuckaqd qqcyyd\n",
      "17\n",
      "jvdfxr jvxvir uzgvikvdlbre rrdzze\n",
      "18\n",
      "kwegys kwywjs vahwjlwemcsf sseaaf\n",
      "19\n",
      "lxfhzt lxzxkt wbixkmxfndtg ttfbbg\n",
      "20\n",
      "mygiau myaylu xcjylnygoeuh uugcch\n",
      "21\n",
      "nzhjbv nzbzmv ydkzmozhpfvi vvhddi\n",
      "22\n",
      "oaikcw oacanw zelanpaiqgwj wwieej\n",
      "23\n",
      "pbjldx pbdbox afmboqbjrhxk xxjffk\n",
      "24\n",
      "qckmey qcecpy bgncprcksiyl yykggl\n",
      "25\n",
      "rdlnfz rdfdqz chodqsdltjzm zzlhhm\n"
     ]
    }
   ],
   "source": [
    "for i in range(1,26):\n",
    "    print(i)\n",
    "    print(encrypt('semoga segera dipertemukan aamiin',i))"
   ]
  },
  {
   "cell_type": "code",
   "execution_count": 2,
   "metadata": {
    "scrolled": true
   },
   "outputs": [
    {
     "name": "stdout",
     "output_type": "stream",
     "text": [
      "1\n",
      ",eufevj,r alxr dvdglepr, cvdsrxr gveu,u,bre k,exx, byljlj u, s,urex bi,gkfxirw, prex  svierdr jvbfcry k,exx, jreu, evxrir u, brnrjre t,jvvex brslgrkve sfxfi prex u,u,i,bre leklb dvdvely, jud urcrd s,urex gvijreu,re\n",
      "2\n",
      "zdteduizq ,kwq cucfkdoqz bucrqwq fudtztzaqd jzdwwz axkiki tz rztqdw ahzfjewhqvz oqdw  ruhdqcq iuaebqx jzdwwz iqdtz duwqhq tz aqmqiqd sziuudw aqrkfqjud reweh oqdw tztzhzaqd kdjka cucudkxz itc tqbqc rztqdw fuhiqdtzqd\n",
      "3\n",
      "ycsdcthyp zjvp btbejcnpy atbqpvp etcsysy,pc iycvvy ,wjhjh sy qyspcv ,gyeidvgpuy npcv  qtgcpbp ht,dapw iycvvy hpcsy ctvpgp sy ,plphpc ryhttcv ,pqjepitc qdvdg npcv sysygy,pc jcij, btbtcjwy hsb spapb qyspcv etghpcsypc\n",
      "4\n",
      "xbrcbsgxo yiuo asadibmox ,sapouo dsbrxrxzob hxbuux zvigig rx pxrobu zfxdhcufotx mobu  psfboao gszc,ov hxbuux gobrx bsuofo rx zokogob qxgssbu zopidohsb pcucf mobu rxrxfxzob ibhiz asasbivx gra ro,oa pxrobu dsfgobrxob\n",
      "5\n",
      "waqbarfwn xhtn ,r,chalnw zr,ontn craqwqwyna gwattw yuhfhf qw owqnat yewcgbtensw lnat  orean,n frybznu gwattw fnaqw artnen qw ynjnfna pwfrrat ynohcngra obtbe lnat qwqwewyna haghy ,r,rahuw fq, qnzn, owqnat crefnaqwna\n",
      "6\n",
      "v,pa,qevm wgsm zqzbg,kmv yqznmsm bq,pvpvxm, fv,ssv xtgege pv nvpm,s xdvbfasdmrv km,s  nqd,mzm eqxaymt fv,ssv em,pv ,qsmdm pv xmimem, oveqq,s xmngbmfq, nasad km,s pvpvdvxm, g,fgx zqzq,gtv epz pmymz nvpm,s bqdem,pvm,\n",
      "7\n",
      "uzo,zpdul vfrl ypyafzjlu xpymlrl apzououwlz euzrru wsfdfd ou muolzr wcuae,rclqu jlzr  mpczlyl dpw,xls euzrru dlzou zprlcl ou wlhldlz nudppzr wlmfalepz m,r,c jlzr ououcuwlz fzefw ypypzfsu doy olxly muolzr apcdlzoulz\n",
      "8\n",
      "tynzyoctk ueqk xox,eyikt woxlkqk ,oyntntvky dtyqqt vrecec nt ltnkyq vbt,dzqbkpt ikyq  lobykxk covzwkr dtyqqt ckynt yoqkbk nt vkgkcky mtcooyq vkle,kdoy lzqzb ikyq ntntbtvky eydev xoxoyert cnx nkwkx ltnkyq ,obckyntky\n",
      "9\n",
      "sxmyxnbsj tdpj wnwzdxhjs vnwkjpj znxmsmsujx csxpps uqdbdb ms ksmjxp uaszcypajos hjxp  knaxjwj bnuyvjq csxpps bjxms xnpjaj ms ujfjbjx lsbnnxp ujkdzjcnx kypya hjxp msmsasujx dxcdu wnwnxdqs bmw mjvjw ksmjxp znabjxmsjx\n",
      "10\n",
      "rwlxwmari scoi vmvycwgir umvjioi ymwlrlrtiw brwoor tpcaca lr jrliwo t,rybxo,inr giwo  jm,wivi amtxuip brwoor aiwlr wmoi,i lr tieiaiw krammwo tijcyibmw jxox, giwo lrlr,rtiw cwbct vmvmwcpr alv liuiv jrliwo ym,aiwlriw\n",
      "11\n",
      "qvkwvl,qh rbnh uluxbvfhq tluihnh xlvkqkqshv aqvnnq sob,b, kq iqkhvn szqxawnzhmq fhvn  ilzvhuh ,lswtho aqvnnq ,hvkq vlnhzh kq shdh,hv jq,llvn shibxhalv iwnwz fhvn kqkqzqshv bvabs ululvboq ,ku khthu iqkhvn xlz,hvkqhv\n",
      "12\n",
      "pujvukzpg qamg tktwauegp skthgmg wkujpjprgu ,pummp rnazaz jp hpjgum rypw,vmyglp egum  hkyugtg zkrvsgn ,pummp zgujp ukmgyg jp rgcgzgu ipzkkum rghawg,ku hvmvy egum jpjpyprgu au,ar tktkuanp zjt jgsgt hpjgum wkyzgujpgu\n",
      "13\n",
      "otiutjyof p,lf sjsv,tdfo rjsgflf vjtioioqft zotllo qm,y,y io goiftl qxovzulxfko dftl  gjxtfsf yjqurfm zotllo yftio tjlfxf io qfbfyft hoyjjtl qfg,vfzjt gulux dftl ioioxoqft ,tz,q sjsjt,mo yis ifrfs goiftl vjxyftioft\n",
      "14\n",
      "nshtsixne ozke riruzscen qirfeke uishnhnpes ynskkn plzxzx hn fnhesk pwnuytkwejn cesk  fiwsere xiptqel ynskkn xeshn sikewe hn peaexes gnxiisk pefzueyis ftktw cesk hnhnwnpes zsyzp ririszln xhr heqer fnhesk uiwxeshnes\n",
      "15\n",
      "mrgsrhwmd nyjd qhqtyrbdm phqedjd thrgmgmodr xmrjjm okywyw gm emgdrj ovmtxsjvdim bdrj  ehvrdqd whospdk xmrjjm wdrgm rhjdvd gm od,dwdr fmwhhrj odeytdxhr esjsv bdrj gmgmvmodr yrxyo qhqhrykm wgq gdpdq emgdrj thvwdrgmdr\n",
      "16\n",
      "lqfrqgvlc mxic pgpsxqacl ogpdcic sgqflflncq wlqiil njxvxv fl dlfcqi nulswriuchl acqi  dguqcpc vgnrocj wlqiil vcqfl qgicuc fl nczcvcq elvggqi ncdxscwgq driru acqi flflulncq xqwxn pgpgqxjl vfp fcocp dlfcqi sguvcqflcq\n",
      "17\n",
      "kpeqpfukb lwhb oforwp,bk nfocbhb rfpekekmbp vkphhk miwuwu ek ckebph mtkrvqhtbgk ,bph  cftpbob ufmqnbi vkphhk ubpek pfhbtb ek mbybubp dkuffph mbcwrbvfp cqhqt ,bph ekektkmbp wpvwm ofofpwik ueo ebnbo ckebph rftubpekbp\n",
      "18\n",
      "jodpoetja kvga nenqvozaj menbaga qeodjdjlao ujoggj lhvtvt dj bjdaog lsjqupgsafj zaog  besoana telpmah ujoggj taodj oegasa dj laxatao cjteeog labvqaueo bpgps zaog djdjsjlao vouvl neneovhj tdn daman bjdaog qestaodjao\n",
      "19\n",
      "incondsi, juf, mdmpuny,i ldma,f, pdncicik,n tinffi kgusus ci aic,nf kriptofr,ei y,nf  adrn,m, sdkol,g tinffi s,nci ndf,r, ci k,w,s,n bisddnf k,aup,tdn aofor y,nf cicirik,n untuk mdmdnugi scm c,l,m aic,nf pdrs,nci,n\n",
      "20\n",
      "hmbnmcrhz itez lclotmxzh kcl,zez ocmbhbhjzm shmeeh jftrtr bh ,hbzme jqhosneqzdh xzme  ,cqmzlz rcjnkzf shmeeh rzmbh mcezqz bh jzvzrzm ahrccme jz,tozscm ,nenq xzme bhbhqhjzm tmstj lclcmtfh rbl bzkzl ,hbzme ocqrzmbhzm\n",
      "21\n",
      "glamlbqgy hsdy kbknslwyg jbkzydy nblagagiyl rglddg iesqsq ag zgayld ipgnrmdpycg wyld  zbplyky qbimjye rglddg qylag lbdypy ag iyuyqyl ,gqbbld iyzsnyrbl zmdmp wyld agagpgiyl slrsi kbkblseg qak ayjyk zgayld nbpqylagyl\n",
      "22\n",
      "fk,lkapfx grcx jajmrkvxf iajyxcx mak,f,fhxk qfkccf hdrprp ,f yf,xkc hofmqlcoxbf vxkc  yaokxjx pahlixd qfkccf pxk,f kacxox ,f hxtxpxk zfpaakc hxyrmxqak ylclo vxkc ,f,fofhxk rkqrh jajakrdf p,j ,xixj yf,xkc maopxk,fxk\n",
      "23\n",
      "ejzkj,oew fqbw i,ilqjuwe h,ixwbw l,jzezegwj pejbbe gcqoqo ze xezwjb gnelpkbnwae uwjb  x,njwiw o,gkhwc pejbbe owjze j,bwnw ze gwswowj yeo,,jb gwxqlwp,j xkbkn uwjb zezenegwj qjpqg i,i,jqce ozi zwhwi xezwjb l,nowjzewj\n",
      "24\n",
      "diyjizndv epav hzhkpitvd gzhwvav kziydydfvi odiaad fbpnpn yd wdyvia fmdkojamv,d tvia  wzmivhv nzfjgvb odiaad nviyd izavmv yd fvrvnvi xdnzzia fvwpkvozi wjajm tvia ydydmdfvi piopf hzhzipbd nyh yvgvh wdyvia kzmnviydvi\n",
      "25\n",
      "chxihymcu do,u gygjohsuc fygvu,u jyhxcxceuh nch,,c eaomom xc vcxuh, elcjni,luzc suh,  vylhugu myeifua nch,,c muhxc hy,ulu xc euqumuh wcmyyh, euvojunyh vi,il suh, xcxclceuh ohnoe gygyhoac mxg xufug vcxuh, jylmuhxcuh\n"
     ]
    }
   ],
   "source": [
    "for i in range(1,26):\n",
    "    print(i)\n",
    "    print(decrypt('afvgfwkas bmys ewehmfqsa dwetsys hwfvavacsf lafyya czmkmk va tavsfy cjahlgyjsxa qsfy  twjfses kwcgdsz lafyya ksfva fwysjs va csosksf uakwwfy cstmhslwf tgygj qsfy vavajacsf mflmc ewewfmza kve vsdse tavsfy hwjksfvasf',i))"
   ]
  },
  {
   "cell_type": "code",
   "execution_count": 16,
   "metadata": {},
   "outputs": [
    {
     "data": {
      "text/plain": [
       "'dnx c ndpx c gld'"
      ]
     },
     "execution_count": 16,
     "metadata": {},
     "output_type": "execute_result"
    }
   ],
   "source": [
    "encrypt('semoga segera dipertemukan', 3)"
   ]
  },
  {
   "cell_type": "code",
   "execution_count": 17,
   "metadata": {},
   "outputs": [
    {
     "data": {
      "text/plain": [
       "'aku , kamu , dia'"
      ]
     },
     "execution_count": 17,
     "metadata": {},
     "output_type": "execute_result"
    }
   ],
   "source": [
    "decrypt('dnx c ndpx c gld',3)"
   ]
  },
  {
   "cell_type": "code",
   "execution_count": null,
   "metadata": {},
   "outputs": [],
   "source": []
  }
 ],
 "metadata": {
  "kernelspec": {
   "display_name": "Python 3",
   "language": "python",
   "name": "python3"
  },
  "language_info": {
   "codemirror_mode": {
    "name": "ipython",
    "version": 3
   },
   "file_extension": ".py",
   "mimetype": "text/x-python",
   "name": "python",
   "nbconvert_exporter": "python",
   "pygments_lexer": "ipython3",
   "version": "3.7.6"
  }
 },
 "nbformat": 4,
 "nbformat_minor": 4
}
