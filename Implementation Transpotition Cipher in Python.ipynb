{
 "cells": [
  {
   "cell_type": "markdown",
   "metadata": {},
   "source": [
    "# Implementation Transpotition Cipher in Python"
   ]
  },
  {
   "cell_type": "code",
   "execution_count": 36,
   "metadata": {},
   "outputs": [],
   "source": [
    "#APABILA MENGGUNAKAN CARA ENTRANS(P,K) --> MEMASUKKAN PLAINTEKS DAN KUNCI LANGSUNG DI SATU BARIS\n",
    "\n",
    "def entrans(p,k):\n",
    "    c=''\n",
    "    b=len(p)\n",
    "    while b%k>0:\n",
    "        p=p+'x'\n",
    "    b=len(p)\n",
    "    n=b//k\n",
    "    for i in range(k):\n",
    "        for j in range(n):\n",
    "            c=c+p[i+j*k]\n",
    "    return c\n",
    "\n",
    "def detrans(c,k):\n",
    "    b=len(c)\n",
    "    k=b//k\n",
    "    p=''\n",
    "    n=b//k\n",
    "    for i in range(k):\n",
    "        for j in range(n):\n",
    "            p=p+c[i+j*k]\n",
    "    return p"
   ]
  },
  {
   "cell_type": "code",
   "execution_count": 10,
   "metadata": {},
   "outputs": [
    {
     "data": {
      "text/plain": [
       "'METAAMIKTAKU'"
      ]
     },
     "execution_count": 10,
     "metadata": {},
     "output_type": "execute_result"
    }
   ],
   "source": [
    "entrans('MATEMATIKAKU',3)"
   ]
  },
  {
   "cell_type": "code",
   "execution_count": 11,
   "metadata": {},
   "outputs": [
    {
     "data": {
      "text/plain": [
       "'MATEMATIKAKU'"
      ]
     },
     "execution_count": 11,
     "metadata": {},
     "output_type": "execute_result"
    }
   ],
   "source": [
    "detrans('METAAMIKTAKU',3)"
   ]
  },
  {
   "cell_type": "code",
   "execution_count": 13,
   "metadata": {},
   "outputs": [
    {
     "name": "stdout",
     "output_type": "stream",
     "text": [
      "1\n",
      "MTMTKKAEAIAU\n",
      "2\n",
      "MATEMATIKAKU\n",
      "3\n",
      "MKATKIMAATEU\n",
      "4\n",
      "MTAITKEAMKAU\n",
      "5\n",
      "MMKAAATTKEIU\n",
      "6\n",
      "MMKAAATTKEIU\n",
      "7\n",
      "MTMTKKAEAIAU\n",
      "8\n",
      "MTMTKKAEAIAU\n",
      "9\n",
      "MTMTKKAEAIAU\n"
     ]
    }
   ],
   "source": [
    "for i in range(1,10):\n",
    "    print(i)\n",
    "    print(detrans('MTMTKKAEAIAU',i))"
   ]
  },
  {
   "cell_type": "code",
   "execution_count": 14,
   "metadata": {},
   "outputs": [
    {
     "data": {
      "text/plain": [
       "'ZAMAN RENAISANS ADALAH ABAD KEMAJUAN BANGSA EROPA SEJARAH KRIPTOGRAFIXXX'"
      ]
     },
     "execution_count": 14,
     "metadata": {},
     "output_type": "execute_result"
    }
   ],
   "source": [
    "detrans('ZNNAAABKJ GEAJHIGIA ANDHAEUBSR A PRXMRISA DMAAAOSRKTAXAES LA ANN PEAROFX',4)"
   ]
  },
  {
   "cell_type": "code",
   "execution_count": 37,
   "metadata": {},
   "outputs": [],
   "source": [
    "#APABILA INGIN MENGGUNAKAN CARA PEMANGGILAN ENTRANS SAJA DAN KITA BISA MEMASUKKAN BANYAK PLAINTEKS\n",
    "#SERTA MEMASUKKAN KUNCI \n",
    "#(MODE INPUTAN)\n",
    "\n",
    "def entrans():\n",
    "    p = input(\"masukkan plainteks : \")\n",
    "    k = input(\"masukkan kunci : \")\n",
    "    c=''\n",
    "    b=len(p)\n",
    "    while int(b) % int(k)>0:\n",
    "        p=p+'x'\n",
    "    b=len(p)\n",
    "    n=int(b)// int(k)\n",
    "    for i in range(int(k)):\n",
    "        for j in range(n):\n",
    "            c=c+p[i+int(j)*int(k)]\n",
    "    return c"
   ]
  },
  {
   "cell_type": "code",
   "execution_count": 16,
   "metadata": {},
   "outputs": [
    {
     "name": "stdout",
     "output_type": "stream",
     "text": [
      "masukkan plainteks : MATEMATIKAKU\n",
      "masukkan kunci : 3\n"
     ]
    },
    {
     "data": {
      "text/plain": [
       "'METAAMIKTAKU'"
      ]
     },
     "execution_count": 16,
     "metadata": {},
     "output_type": "execute_result"
    }
   ],
   "source": [
    "entrans()"
   ]
  },
  {
   "cell_type": "code",
   "execution_count": 38,
   "metadata": {},
   "outputs": [],
   "source": [
    "def detrans(c,k):\n",
    "    b=len(c)\n",
    "    k=b//k\n",
    "    p=''\n",
    "    n=b//k\n",
    "    for i in range(k):\n",
    "        for j in range(n):\n",
    "            p=p+c[i+j*k]\n",
    "    return p\n",
    "\n",
    "def detrans(): #C DAN K\n",
    "    c = input(\"masukkan plainteks : \")\n",
    "    k = input(\"masukkan kunci : \")\n",
    "    \n",
    "    b=len(c)\n",
    "    k=int(b)//int(k)\n",
    "    p=''\n",
    "    n=int(k)//int(k)\n",
    "    for i in range(k):\n",
    "        for j in range(n):\n",
    "            p=p+c[i+int(j)*int(k)]\n",
    "    return p\n",
    "\n",
    "\n",
    "#BELUM BERHASIL UNTUK MENJASIKAN SEPERTI ENTRANS()"
   ]
  },
  {
   "cell_type": "code",
   "execution_count": 39,
   "metadata": {},
   "outputs": [
    {
     "name": "stdout",
     "output_type": "stream",
     "text": [
      "masukkan plainteks : METAAMIKTAKU\n",
      "masukkan kunci : 3\n"
     ]
    },
    {
     "data": {
      "text/plain": [
       "'META'"
      ]
     },
     "execution_count": 39,
     "metadata": {},
     "output_type": "execute_result"
    }
   ],
   "source": [
    "#BELUM BERHASIL -------\n",
    "\n",
    "detrans()"
   ]
  },
  {
   "cell_type": "code",
   "execution_count": null,
   "metadata": {},
   "outputs": [],
   "source": [
    "METAAMIKTAKU"
   ]
  },
  {
   "cell_type": "code",
   "execution_count": null,
   "metadata": {},
   "outputs": [],
   "source": []
  }
 ],
 "metadata": {
  "kernelspec": {
   "display_name": "Python 3",
   "language": "python",
   "name": "python3"
  },
  "language_info": {
   "codemirror_mode": {
    "name": "ipython",
    "version": 3
   },
   "file_extension": ".py",
   "mimetype": "text/x-python",
   "name": "python",
   "nbconvert_exporter": "python",
   "pygments_lexer": "ipython3",
   "version": "3.7.6"
  }
 },
 "nbformat": 4,
 "nbformat_minor": 4
}
